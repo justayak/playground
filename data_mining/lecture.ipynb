{
 "cells": [
  {
   "cell_type": "markdown",
   "metadata": {},
   "source": [
    "# Data Mining\n",
    "(Lecture SS2016)\n",
    "\n",
    "## Subgroup Discovery\n",
    "\n",
    "### Subgroup Discovery Task\n",
    "\n",
    "**Given**:\n",
    "* instance space $X$, distribution $D$ on $X$\n",
    "* sample $S \\subseteq X$ drawn according to $D$\n",
    "* hypothesis space $H, ext: H \\times 2^\\times \\rightarrow 2^\\times$ (mapping $h$ to its exstension $ext(h)\\subseteq S \\subseteq X$)\n",
    "* quality function $q: H \\times 2^\\times \\rightarrow I\\!R$\n",
    "\n",
    "**Find**:\n",
    "* all $h \\in H$ such that $q(h,S) \\geq q_{\\textbf{min}}$, or\n",
    "* best $k$ hypothesis\n",
    "\n",
    "### Interestingness\n",
    "\n",
    "(Assuming the simplest case: binary target)\n",
    "\n",
    "* Typical Utility function (\"Interestingness\")\n",
    "    * Combines relative size of group $h$ with magnitude of deviation\n",
    "        * $g$ abbrev. $g(h):=\\frac{ext(h)}{S}$\n",
    "        * $p_0$ abbrev. $p_0:=\\frac{ext(A)}{S}$, $p$ abbrev. $p(h):=\\frac{ext(A,h)}{ext(h)}$\n",
    "        \n",
    "$$\n",
    "q(h):=\\sqrt{h} * \\ \\vert \\ p - p_0 \\ \\vert\n",
    "$$"
   ]
  }
 ],
 "metadata": {
  "kernelspec": {
   "display_name": "Python 3",
   "language": "python",
   "name": "python3"
  },
  "language_info": {
   "codemirror_mode": {
    "name": "ipython",
    "version": 3
   },
   "file_extension": ".py",
   "mimetype": "text/x-python",
   "name": "python",
   "nbconvert_exporter": "python",
   "pygments_lexer": "ipython3",
   "version": "3.5.1"
  }
 },
 "nbformat": 4,
 "nbformat_minor": 0
}
