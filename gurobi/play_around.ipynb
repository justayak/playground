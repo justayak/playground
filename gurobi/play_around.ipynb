{
 "cells": [
  {
   "cell_type": "markdown",
   "metadata": {},
   "source": [
    "# GUROBI"
   ]
  },
  {
   "cell_type": "code",
   "execution_count": 3,
   "metadata": {},
   "outputs": [
    {
     "data": {
      "image/png": "[encoded data removed]",
      "text/plain": [
       "<Figure size 432x288 with 1 Axes>"
      ]
     },
     "metadata": {},
     "output_type": "display_data"
    }
   ],
   "source": [
    "%matplotlib inline\n",
    "import gurobipy as grb\n",
    "import matplotlib.pyplot as plt\n",
    "\n",
    "m = grb.Model()\n",
    "v0 = m.addVar()\n",
    "v1 = m.addVar()\n",
    "m.update()\n",
    "\n",
    "m.addConstr(v0 - v1 <= 4)\n",
    "m.addConstr(v0 + v1 <= 4)\n",
    "m.addConstr(-0.25 * v0 + v1 <= 1)\n",
    "m.setObjective(v1, grb.GRB.MAXIMIZE)\n",
    "m.params.outputflag = 0\n",
    "\n",
    "m.optimize()\n",
    "\n",
    "plt.plot([0, 4], [0, 4])\n",
    "plt.plot([4, 0], [0, 4])\n",
    "plt.plot([0, 4], [1, 2])\n",
    "plt.scatter(v0.x, v1.x)\n",
    "plt.show()"
   ]
  },
  {
   "cell_type": "markdown",
   "metadata": {},
   "source": [
    "# Google OR tools"
   ]
  },
  {
   "cell_type": "code",
   "execution_count": 29,
   "metadata": {},
   "outputs": [
    {
     "name": "stdout",
     "output_type": "stream",
     "text": [
      "Number of variables = 2\n",
      "Number of constraints = 2\n",
      "Optimal objective value = 23\n",
      "\n",
      "x = 3\n",
      "y = 2\n",
      "3.0\n"
     ]
    },
    {
     "data": {
      "image/png": "[encoded data removed]",
      "text/plain": [
       "<Figure size 432x288 with 1 Axes>"
      ]
     },
     "metadata": {},
     "output_type": "display_data"
    }
   ],
   "source": [
    "from ortools.linear_solver import pywraplp\n",
    "\n",
    "# Instantiate a mixed-integer solver, naming it SolveIntegerProblem.\n",
    "solver = pywraplp.Solver('SolveIntegerProblem',\n",
    "                       pywraplp.Solver.CBC_MIXED_INTEGER_PROGRAMMING)\n",
    "\n",
    "x = solver.IntVar(0.0, solver.infinity(), 'x')\n",
    "y = solver.IntVar(0.0, solver.infinity(), 'y')\n",
    "\n",
    "# x + 7 * y <= 17.5\n",
    "c1 = solver.Constraint(-solver.infinity(), 17.5)\n",
    "c1.SetCoefficient(x, 1)\n",
    "c1.SetCoefficient(y, 7)\n",
    "\n",
    "# x <= 3.5\n",
    "c2 = solver.Constraint(-solver.infinity(), 3.5)\n",
    "c2.SetCoefficient(x, 1)\n",
    "c2.SetCoefficient(y, 0)\n",
    "\n",
    "# Maximize x + 10 * y.\n",
    "o = solver.Objective()\n",
    "o.SetCoefficient(x, 1)\n",
    "o.SetCoefficient(y, 10)\n",
    "o.SetMaximization()\n",
    "\n",
    "result_status = solver.Solve()\n",
    "\n",
    "assert result_status == pywraplp.Solver.OPTIMAL\n",
    "\n",
    "assert solver.VerifySolution(1e-7, True)\n",
    "\n",
    "print('Number of variables =', solver.NumVariables())\n",
    "print('Number of constraints =', solver.NumConstraints())\n",
    "\n",
    "# The objective value of the solution.\n",
    "print('Optimal objective value = %d' % solver.Objective().Value())\n",
    "print()\n",
    "# The value of each variable in the solution.\n",
    "variable_list = [x, y]\n",
    "\n",
    "for variable in variable_list:\n",
    "    print('%s = %d' % (variable.name(), variable.solution_value()))\n",
    "    \n",
    "const1 = lambda x: (17.5 - x)/7\n",
    "\n",
    "\n",
    "print(x.solution_value())\n",
    "\n",
    "ofunc = lambda x: -x /10\n",
    "\n",
    "\n",
    "plt.plot([0, 4], [const1(0), const1(4)])\n",
    "plt.plot([3.5, 3.5], [0, 3])\n",
    "plt.plot([0, 0], [0, 3])\n",
    "plt.plot([0, 4], [0, 0])\n",
    "plt.plot([0, 4], [ofunc(0), ofunc(4)])\n",
    "\n",
    "plt.show()"
   ]
  },
  {
   "cell_type": "markdown",
   "metadata": {},
   "source": [
    "# Graph cut"
   ]
  },
  {
   "cell_type": "code",
   "execution_count": 32,
   "metadata": {},
   "outputs": [
    {
     "name": "stdout",
     "output_type": "stream",
     "text": [
      "Total cost =  250.0\n",
      "\n",
      "Worker 0 assigned to task 2.  Cost = 75\n",
      "Worker 1 assigned to task 0.  Cost = 35\n",
      "Worker 4 assigned to task 3.  Cost = 75\n",
      "Worker 5 assigned to task 1.  Cost = 65\n",
      "\n",
      "Time =  5  milliseconds\n"
     ]
    }
   ],
   "source": [
    "solver = pywraplp.Solver('SolveAssignmentProblemMIP',\n",
    "                           pywraplp.Solver.CBC_MIXED_INTEGER_PROGRAMMING)\n",
    "cost = [[90, 76, 75, 70],\n",
    "      [35, 85, 55, 65],\n",
    "      [125, 95, 90, 105],\n",
    "      [45, 110, 95, 115],\n",
    "      [60, 105, 80, 75],\n",
    "      [45, 65, 110, 95]]\n",
    "\n",
    "team1 = [0, 2, 4]\n",
    "team2 = [1, 3, 5]\n",
    "team_max = 2\n",
    "\n",
    "num_workers = len(cost)\n",
    "num_tasks = len(cost[1])\n",
    "x = {}\n",
    "\n",
    "for i in range(num_workers):\n",
    "    for j in range(num_tasks):\n",
    "        x[i, j] = solver.BoolVar('x[%i,%i]' % (i, j))\n",
    "\n",
    "# Objective\n",
    "solver.Minimize(solver.Sum([cost[i][j] * x[i,j] for i in range(num_workers)\n",
    "                                              for j in range(num_tasks)]))\n",
    "\n",
    "# Constraints\n",
    "\n",
    "# Each worker is assigned to at most 1 task.\n",
    "\n",
    "for i in range(num_workers):\n",
    "    solver.Add(solver.Sum([x[i, j] for j in range(num_tasks)]) <= 1)\n",
    "\n",
    "# Each task is assigned to exactly one worker.\n",
    "\n",
    "for j in range(num_tasks):\n",
    "    solver.Add(solver.Sum([x[i, j] for i in range(num_workers)]) == 1)\n",
    "\n",
    "# Each team takes on two tasks.\n",
    "\n",
    "solver.Add(solver.Sum([x[i, j] for i in team1 for j in range(num_tasks)]) <= team_max)\n",
    "solver.Add(solver.Sum([x[i, j] for i in team2 for j in range(num_tasks)]) <= team_max)\n",
    "sol = solver.Solve()\n",
    "\n",
    "print('Total cost = ', solver.Objective().Value())\n",
    "print()\n",
    "for i in range(num_workers):\n",
    "    for j in range(num_tasks):\n",
    "          if x[i, j].solution_value() > 0:\n",
    "                print('Worker %d assigned to task %d.  Cost = %d' % (\n",
    "                      i,\n",
    "                      j,\n",
    "                      cost[i][j]))\n",
    "\n",
    "print()\n",
    "print(\"Time = \", solver.WallTime(), \" milliseconds\")"
   ]
  },
  {
   "cell_type": "markdown",
   "metadata": {},
   "source": [
    "# Optimization\n",
    "\n",
    "http://theory.stanford.edu/~trevisan/cs261/"
   ]
  },
  {
   "cell_type": "code",
   "execution_count": 5,
   "metadata": {},
   "outputs": [],
   "source": []
  }
 ],
 "metadata": {
  "kernelspec": {
   "display_name": "Python 3",
   "language": "python",
   "name": "python3"
  },
  "language_info": {
   "codemirror_mode": {
    "name": "ipython",
    "version": 3
   },
   "file_extension": ".py",
   "mimetype": "text/x-python",
   "name": "python",
   "nbconvert_exporter": "python",
   "pygments_lexer": "ipython3",
   "version": "3.6.4"
  }
 },
 "nbformat": 4,
 "nbformat_minor": 2
}
