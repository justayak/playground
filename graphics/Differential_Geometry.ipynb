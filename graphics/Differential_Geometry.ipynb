{
 "cells": [
  {
   "cell_type": "markdown",
   "metadata": {},
   "source": [
    "In the addition to polar coordinates the (half) sphere $S_r=\\{ (x,y,z)^T \\ \\vert \\ x^2+y^2+z^2 = r^2 \\}$ can be parameterized by the graph of the function $f(u,v)=\\sqrt{r^2-u^2-v^2}$ i.e. by\n",
    "\n",
    "$$\n",
    "X: \\{ (u,v) \\ \\vert \\ u^2 + v^2 < r^2 \\} \\rightarrow \\!|R \\\\\n",
    "(u,v)^T \\rightarrow (u,v,f(u,v))^T\n",
    "$$\n",
    "\n",
    "Determine for this parameterization the first and second fundamental form in matrix notation and calculate prinicpal, mean and Gaussian curvature."
   ]
  },
  {
   "cell_type": "code",
   "execution_count": 105,
   "metadata": {
    "scrolled": true
   },
   "outputs": [
    {
     "name": "stdout",
     "output_type": "stream",
     "text": [
      "\\kappa_G = \\frac{1}{r^{2}}, 'kappa_M = - \\frac{1.0}{r},\\kappa = \\left [ - \\frac{1}{r}\\right ]\n"
     ]
    }
   ],
   "source": [
    "from sympy import *\n",
    "\n",
    "init_printing(use_unicode=True)\n",
    "\n",
    "u, v, r = symbols('u v r')\n",
    "\n",
    "q = Matrix([u, v, sqrt(r*r - u*u - v*v)])\n",
    "\n",
    "q_u = q.diff(u)\n",
    "q_v = q.diff(v)\n",
    "\n",
    "E = q_u.dot(q_u)\n",
    "F = q_u.dot(q_v)\n",
    "G = q_v.dot(q_v)\n",
    "\n",
    "M_1 = Matrix([[E, F], [F, G]])\n",
    "\n",
    "#n = simplify(q_u.cross(q_v)) / (q_u.cross(q_v)).norm()\n",
    "n = Matrix([u/r, v/r, sqrt(r*r - u*u - v*v)/r])\n",
    "\n",
    "\n",
    "q_uu = simplify(q_u.diff(u))\n",
    "q_vv = simplify(q_v.diff(v))\n",
    "q_uv = simplify(q_u.diff(v))\n",
    "\n",
    "\n",
    "L = simplify(q_uu.dot(n))\n",
    "M = simplify(q_uv.dot(n))\n",
    "N = simplify(q_vv.dot(n))\n",
    "\n",
    "\n",
    "M_2 = Matrix(2, 2, [L, M, M, N])\n",
    "\n",
    "# ===========================\n",
    "\n",
    "k_G = simplify((L * N - M**2) / (E * G - F**2))\n",
    "k_M = simplify((1/2) * (E * N + G * L - 2 * F * M) / (E * G - F**2))\n",
    "k = var('k')\n",
    "f = k**2 - 2 * k_M * k + k_G\n",
    "solve(f, k)\n",
    "print(\"\\kappa_G = \" + latex(k_G) + \", 'kappa_M = \" + latex(k_M) + \",\\kappa = \" + latex(solve(f, k)))"
   ]
  }
 ],
 "metadata": {
  "kernelspec": {
   "display_name": "Python 3",
   "language": "python",
   "name": "python3"
  },
  "language_info": {
   "codemirror_mode": {
    "name": "ipython",
    "version": 3
   },
   "file_extension": ".py",
   "mimetype": "text/x-python",
   "name": "python",
   "nbconvert_exporter": "python",
   "pygments_lexer": "ipython3",
   "version": "3.6.1"
  }
 },
 "nbformat": 4,
 "nbformat_minor": 2
}
