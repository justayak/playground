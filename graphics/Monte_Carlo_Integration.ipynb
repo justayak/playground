{
 "cells": [
  {
   "cell_type": "markdown",
   "metadata": {},
   "source": [
    "Manually determine the following integral using Monte Carlo Integration:\n",
    "\n",
    "$$\n",
    "f(x) = 1.5 x^2 - 2x + 1\n",
    "$$\n",
    "$$\n",
    "I = \\int_0^2 f(x) \\;dx\n",
    "$$\n",
    "\n",
    "* (a) Use a constant probability distribution (PDF) to draw samples\n",
    "* (b) The function $g(x)=x$ is a linear approximation of the original function determined by the least square optimization. Derive a PDF from $g$ and draw your samples from it.\n",
    "\n",
    "For this $20$ \"random\" numbers in the interval $[0 ... 1]$ are given.\n",
    "\n",
    "Generate the respective CDF for the two PDFs and use them to draw samples. Explain why the convergence in (b) is not better than in (a)."
   ]
  },
  {
   "cell_type": "code",
   "execution_count": 11,
   "metadata": {},
   "outputs": [
    {
     "name": "stdout",
     "output_type": "stream",
     "text": [
      "I_a = 1.678248334\n",
      "I_b = 1.70868875527\n"
     ]
    },
    {
     "data": {
      "image/png": "[encoded data removed]",
      "text/plain": [
       "<matplotlib.figure.Figure at 0x7f8d00919278>"
      ]
     },
     "metadata": {},
     "output_type": "display_data"
    }
   ],
   "source": [
    "%matplotlib inline\n",
    "import matplotlib.pyplot as plt\n",
    "import numpy as np\n",
    "from math import sqrt\n",
    "\n",
    "random_numbers = np.array([0.4387, 0.7655, 0.1869, 0.4456, 0.7094,\n",
    "             0.2760, 0.6551, 0.1190, 0.9597, 0.5853,\n",
    "             0.3816, 0.7952, 0.4898, 0.6463, 0.7547,\n",
    "             0.6797, 0.1626, 0.4984, 0.3404, 0.2238])\n",
    "\n",
    "f = lambda x: 1.5 * x**2 - 2 * x + 1\n",
    "g = lambda x: x\n",
    "\n",
    "I_a = 1/20 * np.sum(2 * [f(2*x) for x in random_numbers])\n",
    "print('I_a = ' + str(I_a))\n",
    "\n",
    "I_b = 1/20 * np.sum([(f(2 * sqrt(x)))/sqrt(x) for x in random_numbers])\n",
    "print('I_b = ' + str(I_b))\n",
    "\n",
    "gz = lambda x: x / 2\n",
    "\n",
    "samples = [f(v) for v in random_numbers * 2]\n",
    "\n",
    "x = np.linspace(0, 2, 100)\n",
    "\n",
    "fig = plt.figure(figsize=(8, 4))\n",
    "plt.plot(x, [f(v) for v in x])\n",
    "plt.plot(x, [g(v) for v in x])\n",
    "plt.scatter(random_numbers * 2, samples)\n",
    "plt.show()"
   ]
  },
  {
   "cell_type": "markdown",
   "metadata": {},
   "source": [
    "The correct value of the integral is \n",
    "$$\\int_0^2 f(x) \\;dx = 2$$\n",
    "\n",
    "Assuming $\\zeta, Z$ be random variables that are uniformly distributed on the range $[0,1]$ and $[0,2]$ respectively.\n",
    "\n",
    "**(a)**\n",
    "To sample values for $Z$ from $\\zeta$ we simply have to\n",
    "\n",
    "$$Z = 2\\zeta = P_Z^{-1}(\\zeta)$$\n",
    "\n",
    "using the Inversion Method. We further get:\n",
    "\n",
    "$$P_Z(z) = \\frac{1}{2}z \\ \\ \\ \\ \\ \\ \\ \\ \\ \\ \\ p_z(z)=\\frac{1}{2}$$\n",
    "\n",
    "From this follows that:\n",
    "\n",
    "$$\n",
    "I =\\mathbb{E} \\biggr[ \\frac{f}{p_z} \\biggr] \\approx\n",
    "\\hat{f} = \\frac{1}{n} \\sum_{i=1}^n \\frac{f(z_i)}{p_z(z_i)} = \\frac{1}{n}\\sum_{i=1}^n 2f(2\\zeta_i)\n",
    "$$\n",
    "\n",
    "Given the random values from the cheet we get:\n",
    "$I = 1.678248334$"
   ]
  },
  {
   "cell_type": "markdown",
   "metadata": {},
   "source": [
    "**(b)** Given $g(x)=x$ we get:\n",
    "$$p_Z(z)=\\frac{1}{2} \\ \\ \\ \\ \\ \\ \\ \\ \\ \\ \\ \\ P_Z(z)=\\frac{1}{4}z^2$$\n",
    "\n",
    "Using Inversion Method, given that $P_Z^{-1}(\\zeta)=2\\sqrt{\\zeta}$ we get:\n",
    "\n",
    "$$Z = P_Z^{-1}(\\zeta)=2\\sqrt{\\zeta}$$\n",
    "\n",
    "$$\n",
    "I =\\mathbb{E} \\biggr[ \\frac{f}{p_z} \\biggr] \\approx\n",
    "\\hat{f} = \\frac{1}{n} \\sum_{i=1}^n \\frac{f(z_i)}{p_z(z_i)} = \\frac{1}{n}\\sum_{i=1}^n \\frac{f(2\\sqrt{\\zeta_i})}{\\sqrt{\\zeta_i}}\n",
    "$$\n",
    "\n",
    "With this, we get: $I = 1.70868875527$"
   ]
  }
 ],
 "metadata": {
  "kernelspec": {
   "display_name": "Python 3",
   "language": "python",
   "name": "python3"
  },
  "language_info": {
   "codemirror_mode": {
    "name": "ipython",
    "version": 3
   },
   "file_extension": ".py",
   "mimetype": "text/x-python",
   "name": "python",
   "nbconvert_exporter": "python",
   "pygments_lexer": "ipython3",
   "version": "3.6.1"
  }
 },
 "nbformat": 4,
 "nbformat_minor": 2
}
