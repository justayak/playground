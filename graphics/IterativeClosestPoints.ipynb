{
 "cells": [
  {
   "cell_type": "markdown",
   "metadata": {},
   "source": [
    "# Iterative Closest Points (ICP)\n",
    "\n",
    "## Problem statement\n",
    "\n",
    "Given two point clouds $P=\\{p_1, ..., p_m \\}$, $Q=\\{ q_1, ..., q_n \\}$, find a rigid transformation \n",
    "$$T=\\big(R,t\\big)$$\n",
    "with $R^TR=I$ such that energy $E$ is minimzed:\n",
    "\n",
    "$$\n",
    "E(R,t) = \\sum_{p_i \\in P} \\sum_{q_i \\in Q} w_{ij} \n",
    "\\lVert p_i - (Rq_j + t) \\rVert^2\n",
    "$$\n",
    "\n",
    "$w_{ij}$ is a weight indicating correspondence between $p_i$ and $q_j$\n",
    "\n",
    "\n",
    "> **Theorem (Murty and Kabadi (1987))**\n",
    ">\n",
    "> If an optimization problem is non-convex, it is NP-hard. [1]\n",
    "\n",
    "**Problem**: All of these energies are non-convex!\n",
    "\n",
    "In general, we cannot efficiently calculate the global optimum. \n",
    "Instead we use **heuristics** to approximate it!\n",
    "\n",
    "---\n",
    "\n",
    "## ICP\n",
    "\n",
    "Iterative-Closest-Point (ICP) is a registration algorithm to solve above-mentioned problem.\n",
    "\n",
    "**Heuristic**: Assume...\n",
    "* $\\exists$ set of correspondences such that the optimal alignment of this set is also optimal for the whole problem\n",
    "* the weights are binary: $w_{ij} \\in \\{0, 1\\}$\n",
    "* one can \"decouple correspondence optimization from transformation optimization\"\n",
    "\n",
    "**Idea**: Similar to k-means, iterate:\n",
    "* optimize correspondeces and keep $T=\\big(R,t\\big)$ fixed...\n",
    "* then optimize $T=\\big(R,t\\big)$ and keep correspondences fixe\n",
    "\n",
    "$\\rightarrow$ Gradient descent for following energy:\n",
    "$$\n",
    "E(R,t) = \\sum_{i=1}^n \\lVert p_{c(i)} - \\big(Rq_i + t \\big) \\rVert^2\n",
    "$$\n",
    "\n",
    "### Algorithm\n",
    "\n",
    "* Start from approximate registration\n",
    "* Repeat ..\n",
    "    * Identify corresponding points $(q_i, p_{c(i)})$\n",
    "    * Compute and apply optimal rigid transformation $T=\\big(R,t\\big)$ until registration error (point-to-point distance) is small: \n",
    "    $E(R,t) < \\delta_{\\mathrm{threshold}}$\n",
    "\n",
    "**Problem**: how to compute an optimal transformation $T=\\big(R,t\\big)$ out of the correspondences?\n",
    "\n",
    "> **Theorem (Center of Mass)**\n",
    ">\n",
    "> If $T=\\big(R,t\\big)$ is optimal transformation, then the correspondance $\\{p_{c(i)} \\}$ and $\\{Rq_i +t \\}$ have the same center of mass, i.e.\n",
    "> $$\\overline{p} = \\frac{1}{n} \\sum_{i=1}^n p_{c(i)} = \n",
    "\\frac{1}{n} \\sum_{i=1}^n \\big(Rq_i + t \\big) = R\\overline{q} + t$$\n",
    "\n",
    "\n",
    "\n",
    "> **Lemma (Least Squares Distance Minimizer)**\n",
    ">\n",
    "> Let $\\{x_i \\}$ be a set of points and \n",
    "$\\overline{x}=\\frac{1}{n} \\sum_{i=1}^n x_i$ be their center of mass. Then $\\overline{x}$ minimizes the following energy:\n",
    "> $$E(x)=\\sum_{i=1}^n \\lVert x - x_i \\rVert^2$$"
   ]
  },
  {
   "cell_type": "code",
   "execution_count": 1,
   "metadata": {
    "collapsed": true
   },
   "outputs": [],
   "source": [
    "import numpy as np"
   ]
  },
  {
   "cell_type": "markdown",
   "metadata": {},
   "source": [
    "## References\n",
    "\n",
    "[1] Murty, Katta G., and Santosh N. Kabadi. \"Some NP-complete problems in quadratic and nonlinear programming.\" Mathematical programming 39.2 (1987): 117-129."
   ]
  }
 ],
 "metadata": {
  "kernelspec": {
   "display_name": "Python 3",
   "language": "python",
   "name": "python3"
  },
  "language_info": {
   "codemirror_mode": {
    "name": "ipython",
    "version": 3
   },
   "file_extension": ".py",
   "mimetype": "text/x-python",
   "name": "python",
   "nbconvert_exporter": "python",
   "pygments_lexer": "ipython3",
   "version": "3.6.2"
  }
 },
 "nbformat": 4,
 "nbformat_minor": 2
}
