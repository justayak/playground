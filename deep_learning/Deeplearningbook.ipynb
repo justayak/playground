{
 "cells": [
  {
   "cell_type": "markdown",
   "metadata": {},
   "source": [
    "# Deeplearningbook\n",
    "\n",
    "(interesting stuff from the deep learning book)"
   ]
  },
  {
   "cell_type": "markdown",
   "metadata": {},
   "source": [
    "## Convolution\n",
    "\n",
    "The convolution operation can be constructed as a matrix multiplication, where one of the inputs is converted into a Toeplitz matrix. A Toeplitz matrix has the form: \n",
    "$$\\begin{bmatrix}\n",
    "a & b & c & d\\\\ \n",
    "e & a & b & c\\\\ \n",
    "f & e & a & b\\\\ \n",
    "g & f & e & a\n",
    "\\end{bmatrix}$$\n",
    "\n",
    "For example, the convolution of $h$ and $x$ can be formulated as:\n",
    "\n",
    "$$\n",
    "y = h * x = \\begin{bmatrix}\n",
    "h_1 & 0 & \\ldots & 0 & 0 \\\\ \n",
    "h_2 & h_1 & \\ldots & \\vdots & \\vdots \\\\ \n",
    "h_3 & h_2 & \\ldots & 0 & 0 \\\\ \n",
    "\\vdots & h_3  & \\ldots & h_1 & 0 \\\\ \n",
    "h_{m-1} & \\vdots & \\ldots & h_2 & h_1\\\\ \n",
    "0 & h_m & \\ldots & h_{m-2} & \\vdots \\\\ \n",
    "0 & 0 & \\ldots & h_{m-1} & h_{m-2}\\\\\n",
    "\\vdots & \\vdots & \\vdots & h_m & h_{m-1}\\\\\n",
    "0 & 0 & 0 & \\ldots & h_m\n",
    "\\end{bmatrix} \\begin{bmatrix}\n",
    "x_1\\\\ \n",
    "x_2 \\\\ \n",
    "x_3\\\\ \n",
    "\\vdots\\\\ \n",
    "x_n\n",
    "\\end{bmatrix}\n",
    "$$\n",
    "$$\n",
    "y^T = \\begin{bmatrix} \\\\\n",
    "h_1 & h_2  & h_3 & \\ldots & h_{m-1} & h_m \n",
    "\\end{bmatrix} \\begin{bmatrix}\n",
    "x_1 & x_2 & x_3 & \\ldots & x_n & 0 & 0 & 0 & \\ldots & 0\\\\ \n",
    "0 & x_1 & x_2 & x_3 & \\ldots & x_n & 0 & 0 & \\ldots & 0 \\\\ \n",
    "0 & 0 & x_1 & x_2 & x_3 & \\ldots & x_n & 0 & \\ldots & 0\\\\ \n",
    "\\vdots & \\vdots & \\vdots & \\vdots & \\vdots & \\ldots & \\vdots & \\vdots & \\ldots & 0 \\\\ \n",
    "0 & \\ldots & 0 & 0 & x_1 & \\ldots & x_{n-2} & x_{n-1} & x_n & \\vdots\\\\ \n",
    "0 & \\ldots & 0 & 0 & 0 & x_1 & \\ldots & x_{n-2} & x_{n-1} & x_n\n",
    "\\end{bmatrix}\n",
    "$$"
   ]
  },
  {
   "cell_type": "code",
   "execution_count": 74,
   "metadata": {
    "collapsed": false
   },
   "outputs": [
    {
     "name": "stdout",
     "output_type": "stream",
     "text": [
      "numpy convolve:\t\t[-1. -2. -2. -2. -2. -2.  5.  6.]\n",
      "toeplitz convolve:\t[-1. -2. -2. -2. -2. -2.  5.  6.]\n"
     ]
    }
   ],
   "source": [
    "import numpy as np\n",
    "from scipy.linalg import toeplitz\n",
    "\n",
    "h = np.array([1, 2, 3, 4, 5, 6])\n",
    "x = np.array([-1, 0, 1])\n",
    "m = len(h)\n",
    "n = len(x)\n",
    "\n",
    "X = np.zeros((m, m+n-1))\n",
    "for i in range(m):\n",
    "    X[i,i:i+3] = x\n",
    "\n",
    "y1 = np.convolve(h, x)\n",
    "print(\"numpy convolve:\\t\\t{0}\".format(y1.astype(float)))\n",
    "\n",
    "h = np.expand_dims(h, axis=0)\n",
    "y2 = h @ X\n",
    "print(\"toeplitz convolve:\\t{0}\".format(np.ndarray.flatten(y2)))"
   ]
  }
 ],
 "metadata": {
  "kernelspec": {
   "display_name": "Python [default]",
   "language": "python",
   "name": "python3"
  },
  "language_info": {
   "codemirror_mode": {
    "name": "ipython",
    "version": 3
   },
   "file_extension": ".py",
   "mimetype": "text/x-python",
   "name": "python",
   "nbconvert_exporter": "python",
   "pygments_lexer": "ipython3",
   "version": "3.5.2"
  }
 },
 "nbformat": 4,
 "nbformat_minor": 2
}
