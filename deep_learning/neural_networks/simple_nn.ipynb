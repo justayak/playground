{
 "cells": [
  {
   "cell_type": "code",
   "execution_count": 30,
   "metadata": {
    "collapsed": false
   },
   "outputs": [
    {
     "name": "stdout",
     "output_type": "stream",
     "text": [
      "Dataset is available locally\n",
      "(50000, 784)\n"
     ]
    }
   ],
   "source": [
    "import pickle, gzip, requests, os, sys\n",
    "sys.path.insert(0, '../..')\n",
    "import helper\n",
    "import numpy as np\n",
    "\n",
    "# download dataset, if needed\n",
    "if not os.path.isfile(\"mnist.pkl.gz\"):\n",
    "    print(\"dataset does not exist! Starting to download...\")\n",
    "    url = \"http://deeplearning.net/data/mnist/mnist.pkl.gz\"\n",
    "    r = requests.get(url)\n",
    "    if not r.ok:\n",
    "        print(\"nope, something went wrong.. could not download dataset\")\n",
    "    else:\n",
    "        with open('mnist.pkl.gz', 'wb') as handle:\n",
    "            for block in r.iter_content(1024):\n",
    "                handle.write(block)\n",
    "else:\n",
    "    print(\"Dataset is available locally\")\n",
    "    \n",
    "f = gzip.open('mnist.pkl.gz', 'rb')\n",
    "train_set, valid_set, test_set = pickle.load(f, encoding='latin1')\n",
    "print(train_set[0].shape)\n",
    "\n",
    "def retrieve_images(I):\n",
    "    pass"
   ]
  }
 ],
 "metadata": {
  "kernelspec": {
   "display_name": "Python 3",
   "language": "python",
   "name": "python3"
  },
  "language_info": {
   "codemirror_mode": {
    "name": "ipython",
    "version": 3
   },
   "file_extension": ".py",
   "mimetype": "text/x-python",
   "name": "python",
   "nbconvert_exporter": "python",
   "pygments_lexer": "ipython3",
   "version": "3.5.1"
  }
 },
 "nbformat": 4,
 "nbformat_minor": 0
}
