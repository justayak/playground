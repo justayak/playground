{
 "cells": [
  {
   "cell_type": "code",
   "execution_count": 11,
   "metadata": {
    "collapsed": false
   },
   "outputs": [
    {
     "name": "stdout",
     "output_type": "stream",
     "text": [
      "16168813\n"
     ]
    }
   ],
   "source": [
    "import pickle, gzip, requests, os\n",
    "import numpy as np\n",
    "\n",
    "# download dataset, if needed\n",
    "if not os.path.isfile(\"mnist.pkl.gz\"):\n",
    "    print(\"dataset does not exist! Starting to download...\")\n",
    "    url = \"http://deeplearning.net/data/mnist/mnist.pkl.gz\"\n",
    "    r = requests.get(url)\n",
    "    if not r.ok:\n",
    "        print(\"nope, something went wrong.. could not download dataset\")\n",
    "    else:\n",
    "        with open('mnist.pkl.gz', 'wb') as handle:\n",
    "            for block in r.iter_content(1024):\n",
    "                handle.write(block)\n",
    "else:\n",
    "    print(\"Data\")\n",
    "                \n",
    "#f = gzip.open(r.content, 'rb')"
   ]
  }
 ],
 "metadata": {
  "kernelspec": {
   "display_name": "Python 3",
   "language": "python",
   "name": "python3"
  },
  "language_info": {
   "codemirror_mode": {
    "name": "ipython",
    "version": 3
   },
   "file_extension": ".py",
   "mimetype": "text/x-python",
   "name": "python",
   "nbconvert_exporter": "python",
   "pygments_lexer": "ipython3",
   "version": "3.5.1"
  }
 },
 "nbformat": 4,
 "nbformat_minor": 0
}
