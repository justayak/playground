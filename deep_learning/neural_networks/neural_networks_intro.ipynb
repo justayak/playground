{
 "cells": [
  {
   "cell_type": "markdown",
   "metadata": {},
   "source": [
    "# Introduction to Neural Networks\n",
    "(https://class.coursera.org/neuralnets-2012-001)\n",
    "\n",
    "## Neurons\n",
    "$y$ be the output, $b$ the bias, $i$ the index of each input to the neuron, $x_i$ the $i$th input and $w_i$ the $i$th weight.\n",
    "\n"
   ]
  },
  {
   "cell_type": "markdown",
   "metadata": {},
   "source": [
    "### Linear Neuron\n",
    "$$y=b+\\sum_ix_iw_i$$"
   ]
  },
  {
   "cell_type": "code",
   "execution_count": 9,
   "metadata": {
    "collapsed": false
   },
   "outputs": [
    {
     "data": {
      "image/png": "[encoded data removed]",
      "text/plain": [
       "<matplotlib.figure.Figure at 0x7ffaee2c5390>"
      ]
     },
     "metadata": {},
     "output_type": "display_data"
    }
   ],
   "source": [
    "# EXECUTE ME FIRST!\n",
    "%matplotlib inline\n",
    "import random\n",
    "import math\n",
    "import scipy.integrate as integrate\n",
    "import numpy as np\n",
    "import scipy.special as special\n",
    "from numpy.random import normal\n",
    "import matplotlib.pyplot as plt\n",
    "from mpl_toolkits.mplot3d import Axes3D\n",
    "import matplotlib.cm as cm\n",
    "from numpy.linalg import inv, norm\n",
    "\n",
    "def plot_center(X, Y, ax=None):\n",
    "    x1 = [-X, X]\n",
    "    y1 = [0, 0]\n",
    "    \n",
    "    x2 = [0, 0]\n",
    "    y2 = [-Y, Y]\n",
    "    c = '#999999'\n",
    "    if ax is None:\n",
    "        plt.plot(x1, y1, c=c)\n",
    "        plt.plot(x2, y2, c=c)\n",
    "    else:\n",
    "        ax.plot(x1, y1, c=c)\n",
    "        ax.plot(x2, y2, c=c)\n",
    "\n",
    "def linear_neuron(x, w, b=0):\n",
    "    return b + np.sum(x*w)\n",
    "\n",
    "x = list(range(-5, 5, 1))\n",
    "y = [linear_neuron(i, 1) for i in x]\n",
    "plt.plot(x, y)\n",
    "\n",
    "plot_center(5, 5)\n",
    "\n",
    "plt.show()"
   ]
  },
  {
   "cell_type": "markdown",
   "metadata": {},
   "source": [
    "### Binary thresold neuron\n",
    "(McCulloch-Pitts)\n",
    "Given a thresold $\\theta$\n",
    "\n",
    "$$z=b+\\sum_ix_iw_i\\\\\n",
    "y = \\biggr\\{_{0 \\ \\mathrm{otherwise}}^{1 \\ \\mathrm{if} \\ z \\geq \\theta}\n",
    "$$\n",
    "\n",
    "or:\n",
    "$$\n",
    "y = \\biggr\\{_{0 \\ \\mathrm{otherwise}}^{1 \\ \\mathrm{if} \\ z \\geq 0}, \\ \\ \\theta = -b\n",
    "$$"
   ]
  },
  {
   "cell_type": "code",
   "execution_count": 4,
   "metadata": {
    "collapsed": false
   },
   "outputs": [
    {
     "data": {
      "image/png": "[encoded data removed]",
      "text/plain": [
       "<matplotlib.figure.Figure at 0x7ffae92525f8>"
      ]
     },
     "metadata": {},
     "output_type": "display_data"
    }
   ],
   "source": [
    "def bin_thresold_neuron(x, w, b=0, theta=0):\n",
    "    z = linear_neuron(x, w, b)\n",
    "    if z >= theta:\n",
    "        return 1\n",
    "    return 0\n",
    "\n",
    "x = list(range(-5, 5, 1))\n",
    "y = [bin_thresold_neuron(i, 1) for i in x]\n",
    "plt.plot(x, y)\n",
    "\n",
    "#plot_center(5, 1)\n",
    "\n",
    "plt.show()"
   ]
  },
  {
   "cell_type": "markdown",
   "metadata": {},
   "source": [
    "### Rectified linear neuron\n",
    "\n",
    "$$z=b+\\sum_ix_iw_i\\\\\n",
    "y = \\biggr\\{_{0 \\ \\mathrm{otherwise}}^{z \\ \\mathrm{if} \\ z > 0}\n",
    "$$"
   ]
  },
  {
   "cell_type": "code",
   "execution_count": 5,
   "metadata": {
    "collapsed": false
   },
   "outputs": [
    {
     "data": {
      "image/png": "[encoded data removed]",
      "text/plain": [
       "<matplotlib.figure.Figure at 0x7ffae8d8f438>"
      ]
     },
     "metadata": {},
     "output_type": "display_data"
    }
   ],
   "source": [
    "def rect_linear_neuron(w, x, b=0):\n",
    "    z = linear_neuron(w, x, b)\n",
    "    if z > 0:\n",
    "        return z\n",
    "    return 0\n",
    "\n",
    "x = list(range(-5, 5, 1))\n",
    "y = [rect_linear_neuron(i, 1) for i in x]\n",
    "plt.plot(x, y)\n",
    "plt.show()"
   ]
  },
  {
   "cell_type": "markdown",
   "metadata": {},
   "source": [
    "### Sigmoid neuron\n",
    "\n",
    "using Logistic function:\n",
    "$$z=b+\\sum_ix_iw_i\\\\\n",
    "y = \\frac{1}{1+exp(-z)}\n",
    "$$"
   ]
  },
  {
   "cell_type": "code",
   "execution_count": 6,
   "metadata": {
    "collapsed": false
   },
   "outputs": [
    {
     "data": {
      "image/png": "[encoded data removed]",
      "text/plain": [
       "<matplotlib.figure.Figure at 0x7ffae8cbb6a0>"
      ]
     },
     "metadata": {},
     "output_type": "display_data"
    }
   ],
   "source": [
    "def sigmoid_neuron(w, x, b=0):\n",
    "    z = linear_neuron(w, x, b)\n",
    "    return 1.0 / (1 + math.e**(-z))\n",
    "\n",
    "x = list(range(-15, 15, 1))\n",
    "y = [sigmoid_neuron(i, 1) for i in x]\n",
    "plt.plot(x, y)\n",
    "plt.show()"
   ]
  },
  {
   "cell_type": "markdown",
   "metadata": {},
   "source": [
    "### Stochastic binary neuron\n",
    "\n",
    "using Logistic function:\n",
    "$$z=b+\\sum_ix_iw_i\\\\\n",
    "\\Pr(s=1) = \\frac{1}{1+exp(-z)}\n",
    "$$"
   ]
  },
  {
   "cell_type": "code",
   "execution_count": 8,
   "metadata": {
    "collapsed": false
   },
   "outputs": [
    {
     "data": {
      "image/png": "[encoded data removed]",
      "text/plain": [
       "<matplotlib.figure.Figure at 0x7ffae8b97630>"
      ]
     },
     "metadata": {},
     "output_type": "display_data"
    }
   ],
   "source": [
    "def stoch_binary_neuron(w, x, b=0):\n",
    "    pr = sigmoid_neuron(w, x, b)\n",
    "    if random.random() < pr:\n",
    "        return 1\n",
    "    return 0\n",
    "\n",
    "x = list(range(-15, 15, 1))\n",
    "y = [stoch_binary_neuron(i, 1) for i in x]\n",
    "plt.plot(x, y)\n",
    "plt.show()"
   ]
  },
  {
   "cell_type": "markdown",
   "metadata": {},
   "source": [
    "## Types of NN\n",
    "\n",
    "### Feed-forward neural network\n",
    "\n",
    "* **First layer**: Input layer\n",
    "* **Last layer**: Output layer\n",
    "* **Hidden layer**: If there is more than one hidden layer $\\rightarrow$ \"deep\" neural network\n",
    "\n",
    "Compute A series of transformations that change the similarities between classes\n",
    "* The activities of the neurons in each layer are a non-linear function of the activies in the layer below\n",
    "\n",
    "### Recurrent networks\n",
    "\n",
    "* Have directed cycles in their connection graph\n",
    "    * One can sometimes go back to where one started\n",
    "* Can have complicated dynamcis $\\rightarrow$ makes them difficult to train\n",
    "\n",
    "* Natural way to model sequential data\n",
    "    * Equivalent to very deep nets with one hidden layer per time slice\n",
    "    * Except: they use the same weights at every time splice and they get input at every time slice\n",
    "    \n",
    "### Symmetrically connected networks\n",
    "\n",
    "* Like RNN, but the connections between units are symmetrical (they have the same weight in both directions)\n",
    "    * Easier to analyze\n",
    "    * They obey an energy function and are thus more restricted\n",
    "        * Cannot model cycles"
   ]
  }
 ],
 "metadata": {
  "kernelspec": {
   "display_name": "Python 3",
   "language": "python",
   "name": "python3"
  },
  "language_info": {
   "codemirror_mode": {
    "name": "ipython",
    "version": 3
   },
   "file_extension": ".py",
   "mimetype": "text/x-python",
   "name": "python",
   "nbconvert_exporter": "python",
   "pygments_lexer": "ipython3",
   "version": "3.5.1"
  }
 },
 "nbformat": 4,
 "nbformat_minor": 0
}
