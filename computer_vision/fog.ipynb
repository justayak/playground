{
 "cells": [
  {
   "cell_type": "code",
   "execution_count": 34,
   "metadata": {
    "collapsed": false
   },
   "outputs": [
    {
     "name": "stdout",
     "output_type": "stream",
     "text": [
      "'angle:'-0.894427191\n",
      "27.9508497187\n"
     ]
    }
   ],
   "source": [
    "import numpy as np\n",
    "\n",
    "\n",
    "r0 = np.array([5,10,-1])\n",
    "rd = np.array([1,0,0])\n",
    "\n",
    "# A    B    C    D\n",
    "# 2x + 3y + 4z + 5 = 0\n",
    "n = np.array([-1, 0.5, 0])\n",
    "n = n/np.linalg.norm(n)\n",
    "D = 25\n",
    "\n",
    "print(\"'angle:'\" + str(rd @ n))\n",
    "\n",
    "\n",
    "\n",
    "res = -(r0 @ n + D) / (rd @ n)\n",
    "\n",
    "print(res)"
   ]
  }
 ],
 "metadata": {
  "anaconda-cloud": {},
  "kernelspec": {
   "display_name": "Python [default]",
   "language": "python",
   "name": "python3"
  },
  "language_info": {
   "codemirror_mode": {
    "name": "ipython",
    "version": 3
   },
   "file_extension": ".py",
   "mimetype": "text/x-python",
   "name": "python",
   "nbconvert_exporter": "python",
   "pygments_lexer": "ipython3",
   "version": "3.5.2"
  }
 },
 "nbformat": 4,
 "nbformat_minor": 2
}
