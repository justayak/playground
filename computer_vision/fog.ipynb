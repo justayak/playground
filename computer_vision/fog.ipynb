{
 "cells": [
  {
   "cell_type": "markdown",
   "metadata": {},
   "source": [
    "# Foundation of Graphics\n",
    "\n",
    "---\n",
    "\n",
    "## 01 Transformations\n",
    "\n",
    "### Revision: Cross product\n",
    "\n",
    "$u \\times v = |u| \\ |v| \\sin \\theta c$ where $c$ is a unit vector othogonal to both $u$ and $v$ (right-hand rule). $u\\times v$ is the oriented area of a parallelogram."
   ]
  },
  {
   "cell_type": "code",
   "execution_count": 109,
   "metadata": {
    "collapsed": false
   },
   "outputs": [
    {
     "name": "stdout",
     "output_type": "stream",
     "text": [
      "[ 0.   0.   0.5] cross product (normal)\n",
      "0.5 cross product (with angle)\n"
     ]
    }
   ],
   "source": [
    "import numpy as np\n",
    "from math import pi, sin, radians\n",
    "vec = lambda a : np.array(a)\n",
    "norm = lambda a : np.linalg.norm(a)\n",
    "\n",
    "u = vec([1, 0, 0])\n",
    "v = vec([0.5, 0.5, 0])\n",
    "\n",
    "u_norm = norm(u)\n",
    "v_norm = norm(v)\n",
    "theta = radians(45)\n",
    "\n",
    "res = u_norm * v_norm * sin(theta)\n",
    "\n",
    "print(np.cross(u, v), \"cross product (normal)\")\n",
    "print(res, \"cross product (with angle)\")"
   ]
  },
  {
   "cell_type": "markdown",
   "metadata": {},
   "source": [
    "### affine combination\n",
    "\n",
    "If the coord system is already defined: position $p$ and vector $v$ are synonyms.\n",
    "\n",
    "The set $\\biggr\\{ v \\in V \\ | \\ v = \\sum_{i=0}^n \\lambda_i, v_i \\ \\ \\mathrm{with} \\ \\ \\sum_{i=0}^n \\lambda=1 \\biggr\\}$ is called **affine combination** of vectors $v_i$.\n",
    "\n",
    "### Barycentric Coordinates\n",
    "\n",
    "If a coord system $B=\\{p_0, ..., p_n \\}$ is given in affine space $A$ and the point $p$ is given as affine combination w.r.t. given coordinate system\n",
    "\n",
    "$$\n",
    "p=\\sum_{i=0}^n \\lambda_i p_i \\ \\ \\ \\ \\ \\ \\ \\mathrm{with} \\ \\ \\ \\ \\lambda_i\\geq 1; \\ \\ \\ \\sum_{i=0}^n \\lambda_i = 1\n",
    "$$\n",
    "\n",
    "then the coefficients $\\lambda_i$ are called **barycentric coordinates** of $p$. This is motivated by the fact that if the $n+1$ points $p_i$ are interpreted as masses with weights $m_i=\\lambda_i$ then $p$ can be seen as the **center of gravity (barycenter)** of the masses:\n",
    "\n",
    "$$\n",
    "\\lambda_0 = \\frac{||p_1 - p||}{||p_1 - p_0||} \\ \\ \\ \\ \\ \\ \\lambda_1 = \\frac{\n",
    "||p - p_0||\n",
    "}{||p_1 - p_0||} \\ \\ \\ \\ \\ \\  \\lambda_0 + \\lambda_1 = 1\n",
    "$$"
   ]
  },
  {
   "cell_type": "code",
   "execution_count": 75,
   "metadata": {
    "collapsed": false
   },
   "outputs": [
    {
     "name": "stdout",
     "output_type": "stream",
     "text": [
      "0.6 vs 0.6\n",
      "0.4 vs 0.4\n"
     ]
    },
    {
     "data": {
      "image/png": "[encoded data removed]",
      "text/plain": [
       "<matplotlib.figure.Figure at 0x7f86429b2978>"
      ]
     },
     "metadata": {},
     "output_type": "display_data"
    }
   ],
   "source": [
    "%matplotlib inline\n",
    "import matplotlib.pyplot as plt\n",
    "from numpy import sum as vsum\n",
    "p0, p1 = vec([1,1]), vec([3,3])\n",
    "lambda0, lambda1 = 0.6, 0.4\n",
    "\n",
    "p = p0 * lambda0 + p1 * lambda1\n",
    "\n",
    "print(lambda0, \"vs\", norm(p1-p)/norm(p1-p0))\n",
    "print(lambda1, \"vs\", norm(p-p0)/norm(p1-p0))\n",
    "\n",
    "P = vec([p0, p, p1])\n",
    "\n",
    "plt.scatter(P[:,0], P[:,1])\n",
    "plt.plot([p0[0], p[0]], [p0[1], p[1]])\n",
    "plt.text(p0[0]/2 + p[0]/2 - 0.1, p0[1]/2 + p[1]/2, 'l_1:' + str(lambda1))\n",
    "plt.plot([p1[0], p[0]], [p1[1], p[1]])\n",
    "plt.text(p[0]/2 + p1[0]/2 - 0.1, p[1]/2 + p1[1]/2, 'l_0:' + str(lambda0))\n",
    "plt.show()"
   ]
  },
  {
   "cell_type": "markdown",
   "metadata": {},
   "source": [
    "### Barycentric Coordinates (Triangle)\n",
    "\n",
    "$$\n",
    "\\lambda_0 = \\frac{A(\\triangle(p, p_1, p_2))}{A(\\triangle(p_0, p_1, p_2))} \\ \\ \\ \\ \\ \n",
    "\\lambda_1 = \\frac{A(\\triangle(p, p_2, p_0))}{A(\\triangle(p_0, p_1, p_2))} \\ \\ \\ \\ \\\n",
    "\\lambda_2 = \\frac{A(\\triangle(p, p_0, p_1))}{A(\\triangle(p_0, p_1, p_2))}\n",
    "$$\n",
    "\n",
    "$$p = \\lambda_0 p_0 + \\lambda_1 p_1 + \\lambda_2 p_2$$\n",
    "\n",
    "$$A(\\triangle(p_0, p_1, p_2)) = \\frac{1}{2} (p_1-p_0) \\times (p_2 - p_0)$$"
   ]
  },
  {
   "cell_type": "code",
   "execution_count": 88,
   "metadata": {
    "collapsed": false
   },
   "outputs": [
    {
     "data": {
      "image/png": "[encoded data removed]",
      "text/plain": [
       "<matplotlib.figure.Figure at 0x7f8642889a90>"
      ]
     },
     "metadata": {},
     "output_type": "display_data"
    }
   ],
   "source": [
    "A_triangle = lambda p : 1/2 * np.cross(p[1] - p[0], p[2] - p[0])\n",
    "\n",
    "def plot_triangle(ax, p0, p1, p2, color='blue'):\n",
    "    P = vec([p0, p1, p2])\n",
    "    ax.scatter(P[:,0], P[:,1], color=color)\n",
    "    ax.plot([p0[0], p1[0], p2[0], p0[0]], [p0[1], p1[1], p2[1], p0[1]], color=color)\n",
    "    \n",
    "p0 = vec([0, 0])\n",
    "p1 = vec([0, 5])\n",
    "p2 = vec([5, 0])\n",
    "\n",
    "lambda0, lambda1, lambda2 = 1/3, 1/3, 1/3\n",
    "\n",
    "plot_triangle(plt, p0, p1, p2)\n",
    "\n",
    "p = lambda0 * p0 + lambda1 * p1 + lambda2 * p2\n",
    "\n",
    "plt.scatter(p[0], p[1], color='red')\n",
    "\n",
    "plt.show()"
   ]
  },
  {
   "cell_type": "markdown",
   "metadata": {},
   "source": [
    "### Convex hull\n",
    "\n",
    "The set $\\mathrm{co} \\{p_0, ..., p_n \\} = \\biggr\\{ \n",
    "p \\ \\big| \\ p = \\sum_{i=0}^n \\lambda_i p_i, \\ \\ \\ \\ \\sum_{i=0}^n \\lambda_i = 1, \\ \\ \\ \\mathrm{and} \\ \\ \\lambda_i \\geq 0\n",
    "\\biggr\\}$ is the **convex hull** of the points $p_0, ..., p_n$."
   ]
  },
  {
   "cell_type": "markdown",
   "metadata": {},
   "source": [
    "### Affine mapping\n",
    "\n",
    "A mapping $\\Phi$ between two affine vector spaces $A_1$ and $A_2$ is called **affine**, iff \n",
    "$\\Phi: A_1 \\rightarrow A_2 \\ \\ \\ \\ \\ \\Phi\\biggr( \\sum_{i=0}^n \\lambda_i p_i \\biggr) = \\sum_{i=0}^n \\lambda_i \\Phi(p_i)$ holds for every vector of weights $\\lambda_0, ..., \\lambda_1 \\in R_{\\geq 0}$ with $\\sum_i^n \\lambda_i = 1$\n",
    "\n",
    "**Properties**:\n",
    "* Lines are mapped onto lines\n",
    "* Finite objects remain finite\n",
    "* Parallel objects remain parallel\n",
    "* Ratios of length, areas and volumes are kept"
   ]
  },
  {
   "cell_type": "markdown",
   "metadata": {},
   "source": [
    "### Rigid Transformations\n",
    "\n",
    "A transformation $T$ is called **rigid** if for all $x, y \\in R^3 : \\ \\ || \\ T(x) - T(y) \\ || \\ = || \\ x - y \\ ||$\n",
    "Rigid transformations are affine and can be represented by\n",
    "* Rotantions (linear)\n",
    "* Mirroring (linear)\n",
    "* Translation (non-linear, fix by using homogenous coords)"
   ]
  },
  {
   "cell_type": "markdown",
   "metadata": {},
   "source": [
    "---\n",
    "\n",
    "## Physically-Based Rendering\n",
    "\n",
    "### Rendering pipeline\n",
    "\n",
    "** (1) Scene **\n",
    "* Geometry\n",
    "* Light sources\n",
    "* Material / scattering functions\n",
    "* Camera / sensor\n",
    "\n",
    "** (2) Optical simulation **\n",
    "* Sampling\n",
    "* Monte-Carlo Integration\n",
    "* Efficient data structures\n",
    "* Ray Casting/Tracing\n",
    "\n",
    "** (3) Virtual image/measurement**\n",
    "* Image reconstruction techniques\n",
    "\n",
    "## Ray Casting\n",
    "\n",
    "* For each pixel:\n",
    "    * Starting at the eye: trace light rays backwards through the virtual scene until ray first hits geometry\n",
    "    * Test if hit point is in shadow\n",
    "        * **Yes**: no night gets reflected to eye\n",
    "        * **No** some light gets reflected to eye according to matrial property"
   ]
  },
  {
   "cell_type": "markdown",
   "metadata": {},
   "source": [
    "### Ray Parametric Form\n",
    "\n",
    "Ray expressed as function of a single parameter $(t)$: $(x,y,z) = (x_0, y_0, z_0) + t(x_d, y_d, z_d) = \\vec{r}_0 + t\\vec{r}_d$"
   ]
  },
  {
   "cell_type": "markdown",
   "metadata": {},
   "source": [
    "### Triangle Intersection\n",
    "\n",
    "At what point $p$ does ray intersect triangle?\n",
    "\n",
    "#### Step 1: Intersect ray with plane\n",
    "Normal form: $\\vec{n} \\cdot \\vec{x} + D = Ax + Bx + Cz + D = 0$\n",
    "\n",
    "Substituting $\\vec{x}$ by ray parametric ray form , solving for $t$ yields: $t = - \\frac{\\vec{n}\\cdot \\vec{r}_0 + D}{\\vec{n} \\cdot \\vec{r}_d}$"
   ]
  },
  {
   "cell_type": "code",
   "execution_count": 89,
   "metadata": {
    "collapsed": false
   },
   "outputs": [
    {
     "name": "stdout",
     "output_type": "stream",
     "text": [
      "'angle:'-0.894427191\n",
      "27.9508497187\n"
     ]
    }
   ],
   "source": [
    "r0 = vec([5,10,-1])\n",
    "rd = vec([1,0,0])\n",
    "\n",
    "# A    B    C    D\n",
    "# 2x + 3y + 4z + 5 = 0\n",
    "n = vec([-1, 0.5, 0])\n",
    "n = n/norm(n)\n",
    "D = 25\n",
    "\n",
    "print(\"'angle:'\" + str(rd @ n))\n",
    "\n",
    "\n",
    "\n",
    "res = -(r0 @ n + D) / (rd @ n)\n",
    "\n",
    "print(res)"
   ]
  },
  {
   "cell_type": "markdown",
   "metadata": {},
   "source": [
    "#### Step 2: Triangle intersection\n",
    "\n",
    "Is $\\vec{p}$ inside triangle?\n",
    "\n",
    "Check sign of $E_i = (\\vec{v_i v_{i+1}} \\times \\vec{v_1p}) \\cdot \\vec{n}$ for **each** Edge:\n",
    "* Indicates if $\\vec{p}$ is *left* or *right* to the i'th edge\n",
    "* If signs are all positive or negative, point is inside triangle"
   ]
  },
  {
   "cell_type": "code",
   "execution_count": 108,
   "metadata": {
    "collapsed": false
   },
   "outputs": [
    {
     "data": {
      "image/png": "[encoded data removed]",
      "text/plain": [
       "<matplotlib.figure.Figure at 0x7f86429c9908>"
      ]
     },
     "metadata": {},
     "output_type": "display_data"
    }
   ],
   "source": [
    "v0 = vec([5, 2, 0])\n",
    "v1 = vec([0, 5, 0])\n",
    "v2 = vec([0, 0, 0])\n",
    "n = vec([0, 0, 1])\n",
    "\n",
    "E0 = lambda p: np.cross(v0-v1, v0-p) @ n \n",
    "E1 = lambda p: np.cross(v1-v2, v1-p) @ n \n",
    "E2 = lambda p: np.cross(v2-v0, v2-p) @ n \n",
    "\n",
    "def is_inside(p):\n",
    "    edge0, edge1, edge2 = E0(p), E1(p), E2(p)\n",
    "    return np.sign(edge0) == np.sign(edge1) == np.sign(edge2)\n",
    "    \n",
    "\n",
    "plot_triangle(plt, v0, v1, v2)\n",
    "    \n",
    "for x in range(-1, 7):\n",
    "    for y in range(-1, 7):\n",
    "        p = vec([x,y,0])\n",
    "        color = 'green' if is_inside(p) else 'red'\n",
    "        plt.scatter(p[0], p[1], color=color)"
   ]
  },
  {
   "cell_type": "markdown",
   "metadata": {},
   "source": [
    "### The Rendering Equation (for surfaces)\n",
    "\n",
    "$$\n",
    "L_0(\\vec{x}, \\vec{\\omega}_0) = L_e(\\vec{x}, \\vec{\\omega}_0) + \\int_\\Omega f(\\vec{\\omega}_i, \\vec{\\omega}_0)\n",
    "L_i(\\vec{x}, \\vec{\\omega}_i) \\big< \\vec{\\omega}_i, \\vec{n} \\big> \\ \\ d\\vec{\\omega}_i\n",
    "$$\n",
    "\n",
    "* $L_e$: Emission\n",
    "* $f$: Scattering function (BRDF)\n",
    "* $L_i$: Incoming Radiance\n",
    "* $\\big<\\vec{\\omega}_i, \\vec{n}\\big>$: *Cosine term*\n",
    "* $f, L_i, \\big<\\vec{\\omega}_i, \\vec{n}\\big>$: Reflection"
   ]
  },
  {
   "cell_type": "code",
   "execution_count": null,
   "metadata": {
    "collapsed": true
   },
   "outputs": [],
   "source": []
  }
 ],
 "metadata": {
  "anaconda-cloud": {},
  "kernelspec": {
   "display_name": "Python [default]",
   "language": "python",
   "name": "python3"
  },
  "language_info": {
   "codemirror_mode": {
    "name": "ipython",
    "version": 3
   },
   "file_extension": ".py",
   "mimetype": "text/x-python",
   "name": "python",
   "nbconvert_exporter": "python",
   "pygments_lexer": "ipython3",
   "version": "3.5.2"
  }
 },
 "nbformat": 4,
 "nbformat_minor": 2
}
