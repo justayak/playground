{
 "cells": [
  {
   "cell_type": "markdown",
   "metadata": {
    "collapsed": true
   },
   "source": [
    "# Introduction to Probability\n",
    "---"
   ]
  },
  {
   "cell_type": "markdown",
   "metadata": {},
   "source": [
    "## Joint Probability and marginalization\n",
    "\n",
    "$\\Pr(x, y)$ is the joint probability of $\\Pr(x)$ and $Pr(y)$.\n",
    "\n",
    "To marginalize the probabilities, one can $\\int$ in the continiuous case or $\\sum$ in the discrete one:\n",
    "$\\Pr(x)=\\int \\Pr(x,y) dy$\n",
    "$\\Pr(y)=\\int \\Pr(x,y) dx$\n",
    "\n",
    "**Discrete Example**\n",
    "\n",
    "$X=\\{1,2,3,4\\}, Y=\\{1,2,3\\}$\n",
    "\n",
    "What is $\\Pr(X=1)$?\n",
    "\n",
    "$ \\Pr(X=1) = \\Pr((X=1 \\wedge Y=1) \\vee (X=1 \\wedge Y=2) \\vee (X=1 \\wedge Y=3)) $\n",
    "$=\\Pr(X=1 \\wedge Y=1) + \\Pr(X=1 \\wedge Y=2) + \\Pr(X=1 \\wedge Y=3)$"
   ]
  },
  {
   "cell_type": "markdown",
   "metadata": {},
   "source": [
    "---\n",
    "# Helpers and libraries"
   ]
  },
  {
   "cell_type": "code",
   "execution_count": 20,
   "metadata": {
    "collapsed": false
   },
   "outputs": [],
   "source": [
    "%matplotlib inline\n",
    "import scipy.integrate as integrate\n",
    "import numpy as np\n",
    "import scipy.special as special\n",
    "from numpy.random import normal\n",
    "import matplotlib.pyplot as plt"
   ]
  }
 ],
 "metadata": {
  "kernelspec": {
   "display_name": "Python 3",
   "language": "python",
   "name": "python3"
  },
  "language_info": {
   "codemirror_mode": {
    "name": "ipython",
    "version": 3
   },
   "file_extension": ".py",
   "mimetype": "text/x-python",
   "name": "python",
   "nbconvert_exporter": "python",
   "pygments_lexer": "ipython3",
   "version": "3.5.1"
  }
 },
 "nbformat": 4,
 "nbformat_minor": 0
}
