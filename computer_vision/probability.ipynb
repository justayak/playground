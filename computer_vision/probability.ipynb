{
 "cells": [
  {
   "cell_type": "markdown",
   "metadata": {
    "collapsed": true
   },
   "source": [
    "# Introduction to Probability\n",
    "---"
   ]
  },
  {
   "cell_type": "markdown",
   "metadata": {},
   "source": [
    "## Probability\n",
    "\n",
    "**Random variable** $x$ denotes a quantity that is uncertain and which can be either *discrete* or *continuous*.\n",
    "\n",
    "---\n",
    "\n",
    "**Probability distribution** $\\Pr(x)$ captures the information of how likely a random variable is. A probability distribution of a discrete variable can be visualized by a histogram while the distribution of a continous variable can be visualized with the *probability densitiy function (pdf)*.\n",
    "\n",
    "---\n",
    "\n",
    "**Joint probability:** $\\Pr(x,y)$, $\\Pr(x,y,z), ...$: If we observe multiple paired instances of $x$ and $y$ some combinations occur more frequently.\n",
    "\n",
    "---\n",
    "\n",
    "**Marginalization:**\n",
    "\n",
    "$\\Pr(x) = \\int \\Pr(x,y)\\partial y$ (continuous)\n",
    "\n",
    "$\\Pr(y) = \\int \\Pr(x,y)\\partial x$\n",
    "\n",
    "$\\Pr(x) = \\sum_{y} \\Pr(x,y)$ (discrete)\n",
    "\n",
    "$\\Pr(y) = \\sum_{x} \\Pr(x,y)$\n",
    "\n",
    "---"
   ]
  },
  {
   "cell_type": "markdown",
   "metadata": {},
   "source": [
    "---\n",
    "# Helpers and libraries"
   ]
  },
  {
   "cell_type": "code",
   "execution_count": 20,
   "metadata": {
    "collapsed": false
   },
   "outputs": [],
   "source": [
    "%matplotlib inline\n",
    "import scipy.integrate as integrate\n",
    "import numpy as np\n",
    "import scipy.special as special\n",
    "from numpy.random import normal\n",
    "import matplotlib.pyplot as plt"
   ]
  }
 ],
 "metadata": {
  "kernelspec": {
   "display_name": "Python 3",
   "language": "python",
   "name": "python3"
  },
  "language_info": {
   "codemirror_mode": {
    "name": "ipython",
    "version": 3
   },
   "file_extension": ".py",
   "mimetype": "text/x-python",
   "name": "python",
   "nbconvert_exporter": "python",
   "pygments_lexer": "ipython3",
   "version": "3.5.1"
  }
 },
 "nbformat": 4,
 "nbformat_minor": 0
}
