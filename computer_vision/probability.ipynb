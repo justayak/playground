{
 "cells": [
  {
   "cell_type": "markdown",
   "metadata": {
    "collapsed": true
   },
   "source": [
    "# Introduction to Probability\n",
    "---"
   ]
  },
  {
   "cell_type": "markdown",
   "metadata": {},
   "source": [
    "## Probability\n",
    "\n",
    "**Random variable** $x$ denotes a quantity that is uncertain and which can be either *discrete* or *continuous*.\n",
    "\n",
    "---\n",
    "\n",
    "**Probability distribution** $\\Pr(x)$ captures the information of how likely a random variable is. A probability distribution of a discrete variable can be visualized by a histogram while the distribution of a continous variable can be visualized with the *probability densitiy function (pdf)*.\n",
    "\n",
    "---\n",
    "\n",
    "**Joint probability:** $\\Pr(x,y)$, $\\Pr(x,y,z), ...$: If we observe multiple paired instances of $x$ and $y$ some combinations occur more frequently.\n",
    "\n",
    "---\n",
    "\n",
    "**Marginalization:**\n",
    "\n",
    "$\\Pr(x) = \\int \\Pr(x,y)\\partial y$ (continuous)\n",
    "\n",
    "$\\Pr(y) = \\int \\Pr(x,y)\\partial x$\n",
    "\n",
    "$\\Pr(x) = \\sum_{y} \\Pr(x,y)$ (discrete)\n",
    "\n",
    "$\\Pr(y) = \\sum_{x} \\Pr(x,y)$\n",
    "\n",
    "---\n",
    "\n",
    "**Conditional probability:**\n",
    "$\\Pr(x \\vert y)= \\frac{\\Pr(x,y)}{\\Pr(y)} \\\\ \n",
    "\\Leftrightarrow \\Pr(x,y) \\\\ = \\Pr(x \\vert y)\\Pr(y) \\\\\n",
    "= \\Pr(y \\vert x)\\Pr(x)$\n",
    "\n",
    "---\n",
    "\n",
    "**Bayes' Rule:**\n",
    "$\\Pr(y \\vert x) = \\frac{Pr(x \\vert y)\\Pr(y)}{\\Pr(x)} \\\\\n",
    "= \\frac{Pr(x \\vert y)\\Pr(y)}{\\int \\Pr(x, y) dy} \\\\\n",
    "= \\frac{\\Pr(x \\vert y)\\Pr(y)}{\\int \\Pr(x \\vert y)\\Pr(y) dy}$\n",
    "\n",
    "---\n",
    "\n",
    "**Independence:**\n",
    "if $x$ tells us nothing about $y$, we can write:\n",
    "\n",
    "$\\Pr(x \\vert y)=\\Pr(x)$\n",
    "\n",
    "$\\Pr(y \\vert x)=\\Pr(y)$\n",
    "\n",
    "$\\Rightarrow \\Pr(x,y)=\\Pr(x \\vert y)\\Pr(y)=\\Pr(x)\\Pr(y)$\n",
    "\n",
    "---\n",
    "\n",
    "**Expectation:**\n",
    "Given $f[\\circ]$ that returns value $\\forall$ possible values $x^*$\n",
    "\n",
    "$\\mathrm{E}[f[x]] = \\sum_{x}f[x]\\Pr(x)$ (discrete)\n",
    "\n",
    "$\\mathrm{E}[f[x]] = \\int f[x]\\Pr(x) \\partial x$\n",
    "\n",
    "(e.g.): $\\mathrm{E}[f[x,y]] = \\int \\int f[x,y]\\Pr(x,y) \\partial x \\partial y$\n",
    "\n",
    "---"
   ]
  },
  {
   "cell_type": "markdown",
   "metadata": {},
   "source": [
    "## Common probability distributions\n",
    "\n",
    "**Bernoulli distribution:**\n",
    "\n",
    "binary trial, $x\\in \\{0,1\\}$\n",
    "\n",
    "takes single parameter $\\lambda \\in [0, 1]$ which defines probability of observing a success $x=1$\n",
    "\n",
    "$\\Pr(x=0)=1-\\lambda \\\\\n",
    "\\Pr(x=1)=\\lambda \\\\\n",
    "\\Leftrightarrow \\Pr(x)=\\lambda^{x}(1-\\lambda)^{1-x} \\\\\n",
    "= \\Pr(x) = \\mathrm{Bern}_x[\\lambda]$"
   ]
  },
  {
   "cell_type": "code",
   "execution_count": 47,
   "metadata": {
    "collapsed": false
   },
   "outputs": [
    {
     "data": {
      "image/png": "[encoded data removed]",
      "text/plain": [
       "<matplotlib.figure.Figure at 0x7f7ea5e1e7b8>"
      ]
     },
     "metadata": {},
     "output_type": "display_data"
    }
   ],
   "source": [
    "def bernoulli(lmbda):\n",
    "    return 1 if random.random() < lmbda else 0\n",
    "\n",
    "x = []\n",
    "for i in range(100):\n",
    "    x.append(bernoulli(0.7))\n",
    "    \n",
    "hist, bins = np.histogram(x, bins=2)\n",
    "hist = hist / sum(hist)\n",
    "\n",
    "plt.bar(\n",
    "    left=[0, 1],\n",
    "    height=hist,\n",
    "    width=0.9,\n",
    "    align='center',\n",
    "    tick_label=[\"x = 0\", 'x = 1'])\n",
    "plt.show()"
   ]
  },
  {
   "cell_type": "markdown",
   "metadata": {},
   "source": [
    "**Beta distribution**\n",
    "\n",
    "Continuous distribution defined on a single variable $\\lambda \\in [0,1]$. (Can be used to represent uncertainty in the $\\lambda$ parameter in a Bernoulli distribution)\n",
    "\n",
    "$\\Gamma[z]=\\int_{0}^{\\infty} t^{z-1}e^{-t} \\partial t$, for positive integers: $\\Gamma[z]=(z-1)!$ and $\\Gamma[z+1]=z\\Gamma[z]$\n",
    "\n",
    "$\\mathrm{Beta}_{\\lambda}[\\alpha,\\beta]=\\Pr(\\lambda)\n",
    "=\\frac{\\Gamma[\\alpha+\\beta]}{\\Gamma[\\alpha]\\Gamma[\\beta]} \\lambda^{\\alpha-1}(1-\\lambda)^{\\beta-1}$\n",
    "\n",
    "$\\mathrm{E}[\\lambda] = \\frac{\\alpha}{\\alpha+\\beta}$"
   ]
  },
  {
   "cell_type": "code",
   "execution_count": 83,
   "metadata": {
    "collapsed": false
   },
   "outputs": [
    {
     "data": {
      "image/png": "[encoded data removed]",
      "text/plain": [
       "<matplotlib.figure.Figure at 0x7f7ea0762ac8>"
      ]
     },
     "metadata": {},
     "output_type": "display_data"
    }
   ],
   "source": [
    "def Gamma(z):\n",
    "    return math.factorial(z-1)\n",
    "\n",
    "def gen_beta(alpha, beta):\n",
    "    assert(alpha >= 0)\n",
    "    assert(beta >= 0)\n",
    "    p = Gamma(alpha + beta) / (Gamma(alpha) * Gamma(beta))\n",
    "    a = alpha - 1\n",
    "    b = beta - 1\n",
    "    return lambda lmbda: p * math.pow(lmbda,a) * math.pow((1-lmbda),b)\n",
    "\n",
    "beta1 = gen_beta(10, 10)\n",
    "beta2 = gen_beta(10, 3)\n",
    "beta3 = gen_beta(3, 10)\n",
    "a = []\n",
    "b = []\n",
    "c = []\n",
    "for i in np.arange(0, 1, 0.01):\n",
    "    a.append(beta1(i))\n",
    "    b.append(beta2(i))\n",
    "    c.append(beta3(i))\n",
    "\n",
    "a = plt.plot(a, label=\"a=10, b=10\")\n",
    "b = plt.plot(b, label=\"a=10, b=3\")\n",
    "c = plt.plot(c, label=\"a=3, b=10\")\n",
    "plt.legend(loc='upper center', ncol=3, fancybox=True, shadow=True, fontsize=11)\n",
    "plt.show()"
   ]
  },
  {
   "cell_type": "markdown",
   "metadata": {},
   "source": [
    "---\n",
    "# Helpers and libraries"
   ]
  },
  {
   "cell_type": "code",
   "execution_count": 48,
   "metadata": {
    "collapsed": false
   },
   "outputs": [],
   "source": [
    "%matplotlib inline\n",
    "import random\n",
    "import math\n",
    "import scipy.integrate as integrate\n",
    "import numpy as np\n",
    "import scipy.special as special\n",
    "from numpy.random import normal\n",
    "import matplotlib.pyplot as plt"
   ]
  }
 ],
 "metadata": {
  "kernelspec": {
   "display_name": "Python 3",
   "language": "python",
   "name": "python3"
  },
  "language_info": {
   "codemirror_mode": {
    "name": "ipython",
    "version": 3
   },
   "file_extension": ".py",
   "mimetype": "text/x-python",
   "name": "python",
   "nbconvert_exporter": "python",
   "pygments_lexer": "ipython3",
   "version": "3.5.1"
  }
 },
 "nbformat": 4,
 "nbformat_minor": 0
}
