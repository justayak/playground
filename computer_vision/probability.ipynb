{
 "cells": [
  {
   "cell_type": "markdown",
   "metadata": {
    "collapsed": true
   },
   "source": [
    "# Introduction to Probability\n",
    "---"
   ]
  },
  {
   "cell_type": "markdown",
   "metadata": {},
   "source": [
    "## Probability\n",
    "\n",
    "**Random variable** $x$ denotes a quantity that is uncertain and which can be either *discrete* or *continuous*.\n",
    "\n",
    "---\n",
    "\n",
    "**Probability distribution** $\\Pr(x)$ captures the information of how likely a random variable is. A probability distribution of a discrete variable can be visualized by a histogram while the distribution of a continous variable can be visualized with the *probability densitiy function (pdf)*.\n",
    "\n",
    "---\n",
    "\n",
    "**Joint probability:** $\\Pr(x,y)$, $\\Pr(x,y,z), ...$: If we observe multiple paired instances of $x$ and $y$ some combinations occur more frequently.\n",
    "\n",
    "---\n",
    "\n",
    "**Marginalization:**\n",
    "\n",
    "$\\Pr(x) = \\int \\Pr(x,y)\\partial y$ (continuous)\n",
    "\n",
    "$\\Pr(y) = \\int \\Pr(x,y)\\partial x$\n",
    "\n",
    "$\\Pr(x) = \\sum_{y} \\Pr(x,y)$ (discrete)\n",
    "\n",
    "$\\Pr(y) = \\sum_{x} \\Pr(x,y)$\n",
    "\n",
    "---\n",
    "\n",
    "**Conditional probability:**\n",
    "$\\Pr(x \\vert y)= \\frac{\\Pr(x,y)}{\\Pr(y)} \\\\ \n",
    "\\Leftrightarrow \\Pr(x,y) \\\\ = \\Pr(x \\vert y)\\Pr(y) \\\\\n",
    "= \\Pr(y \\vert x)\\Pr(x)$\n",
    "\n",
    "---\n",
    "\n",
    "**Bayes' Rule:**\n",
    "$\\Pr(y \\vert x) = \\frac{Pr(x \\vert y)\\Pr(y)}{\\Pr(x)} \\\\\n",
    "= \\frac{Pr(x \\vert y)\\Pr(y)}{\\int \\Pr(x, y) dy} \\\\\n",
    "= \\frac{\\Pr(x \\vert y)\\Pr(y)}{\\int \\Pr(x \\vert y)\\Pr(y) dy}$\n",
    "\n",
    "---\n",
    "\n",
    "**Independence:**\n",
    "if $x$ tells us nothing about $y$, we can write:\n",
    "\n",
    "$\\Pr(x \\vert y)=\\Pr(x)$\n",
    "\n",
    "$\\Pr(y \\vert x)=\\Pr(y)$\n",
    "\n",
    "$\\Rightarrow \\Pr(x,y)=\\Pr(x \\vert y)\\Pr(y)=\\Pr(x)\\Pr(y)$\n",
    "\n",
    "---\n",
    "\n",
    "**Expectation:**\n",
    "Given $f[\\circ]$ that returns value $\\forall$ possible values $x^*$\n",
    "\n",
    "$\\mathrm{E}[f[x]] = \\sum_{x}f[x]\\Pr(x)$ (discrete)\n",
    "\n",
    "$\\mathrm{E}[f[x]] = \\int f[x]\\Pr(x) \\partial x$\n",
    "\n",
    "(e.g.): $\\mathrm{E}[f[x,y]] = \\int \\int f[x,y]\\Pr(x,y) \\partial x \\partial y$\n",
    "\n",
    "---"
   ]
  },
  {
   "cell_type": "markdown",
   "metadata": {},
   "source": [
    "## Common probability distributions\n",
    "\n",
    "**Bernoulli distribution:**\n",
    "\n",
    "binary trial, $x\\in \\{0,1\\}$\n",
    "\n",
    "takes single parameter $\\lambda \\in [0, 1]$ which defines probability of observing a success $x=1$\n",
    "\n",
    "$\\Pr(x=0)=1-\\lambda \\\\\n",
    "\\Pr(x=1)=\\lambda \\\\\n",
    "\\Leftrightarrow \\Pr(x)=\\lambda^{x}(1-\\lambda)^{1-x} \\\\\n",
    "= \\Pr(x) = \\mathrm{Bern}_x[\\lambda]$"
   ]
  },
  {
   "cell_type": "code",
   "execution_count": 42,
   "metadata": {
    "collapsed": false
   },
   "outputs": [
    {
     "data": {
      "image/png": "[encoded data removed]",
      "text/plain": [
       "<matplotlib.figure.Figure at 0x7f7ea078cba8>"
      ]
     },
     "metadata": {},
     "output_type": "display_data"
    }
   ],
   "source": [
    "def bernoulli(lmbda):\n",
    "    return 1 if random.random() < lmbda else 0\n",
    "\n",
    "x = []\n",
    "for i in range(100):\n",
    "    x.append(bernoulli(0.7))\n",
    "    \n",
    "hist, bins = np.histogram(x, bins=2)\n",
    "hist = hist / sum(hist)\n",
    "\n",
    "plt.bar(\n",
    "    left=[0, 1],\n",
    "    height=hist,\n",
    "    width=0.9,\n",
    "    align='center',\n",
    "    tick_label=[\"x = 0\", 'x = 1'])\n",
    "plt.show()"
   ]
  },
  {
   "cell_type": "markdown",
   "metadata": {},
   "source": [
    "---\n",
    "# Helpers and libraries"
   ]
  },
  {
   "cell_type": "code",
   "execution_count": 3,
   "metadata": {
    "collapsed": false
   },
   "outputs": [],
   "source": [
    "%matplotlib inline\n",
    "import random\n",
    "import scipy.integrate as integrate\n",
    "import numpy as np\n",
    "import scipy.special as special\n",
    "from numpy.random import normal\n",
    "import matplotlib.pyplot as plt"
   ]
  }
 ],
 "metadata": {
  "kernelspec": {
   "display_name": "Python 3",
   "language": "python",
   "name": "python3"
  },
  "language_info": {
   "codemirror_mode": {
    "name": "ipython",
    "version": 3
   },
   "file_extension": ".py",
   "mimetype": "text/x-python",
   "name": "python",
   "nbconvert_exporter": "python",
   "pygments_lexer": "ipython3",
   "version": "3.5.1"
  }
 },
 "nbformat": 4,
 "nbformat_minor": 0
}
