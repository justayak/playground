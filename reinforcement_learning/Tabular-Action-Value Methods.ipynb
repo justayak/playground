{
 "cells": [
  {
   "cell_type": "markdown",
   "metadata": {},
   "source": [
    "# Tabular Action-Value Methods\n",
    "(https://webdocs.cs.ualberta.ca/~sutton/book/ebook/the-book.html)"
   ]
  },
  {
   "cell_type": "markdown",
   "metadata": {},
   "source": [
    "* State and Action space are small enough for the approximate action-value function to be represented as array or table\n",
    "* This chapter describes three fundamental classes of methods to solve MDP: **dynamic programming**, **Monte Carlo methods** and **temporal-difference learning**"
   ]
  },
  {
   "cell_type": "markdown",
   "metadata": {},
   "source": [
    "## Dynamic Programming (DP)\n",
    "\n",
    "* Given a perfect model as MDP an optimal policy can be computed\n",
    "\n",
    "### Policy Evaluation\n",
    "\n",
    "* Compute state-value function $v_\\pi$ for an arbitrary policy $\\pi$\n",
    "\n",
    "Given: \n",
    "$$v_{\\pi}(s) = I\\!E_{\\pi}\\biggr[R_{t+1} + \\gamma v_\\pi(S_{t+1}) \\ \\vert \\ S_t = s\\biggr]\\\\\n",
    "= \\sum_a \\pi(a \\ \\vert \\ s) \\sum_{s'}p(s'\\ \\vert \\ s,a) \\biggr[ r(s,a,s')+\\gamma v_\\pi(s') \\biggr] \\ \\ \\ (\\mathrm{4.4})$$\n",
    "\n",
    "* If the dynamics are completely known, then *(4.4)* is a system of $ \\ \\vert \\ S \\ \\vert \\ $ simultaneous linear equations in $ \\ \\vert \\ S \\ \\vert \\ $ unknowns\n",
    "\n",
    "**Iterative policy evaluation**:\n",
    "$$v_{k+1}(s) = \\sum_a \\pi(a \\ \\vert \\ s) \\sum_{s'} p(s' \\ \\vert \\ s,a) \\biggr[ r(s,a,s') + \\gamma v_k(s') \\biggr]$$\n",
    "\n",
    "* as $k \\rightarrow \\infty$, the sequence $v_k$ converges to $v_\\pi$"
   ]
  },
  {
   "cell_type": "markdown",
   "metadata": {},
   "source": [
    "Given the Gridworld below with non-terminal states $S=\\{1,2,...,14\\}$ and actions in each state $A=\\{\\mathrm{up}, \\mathrm{down}, \\mathrm{right}, \\mathrm{left}\\}$\n",
    "\n",
    "* $R=-1$ on all transitions\n",
    "\n",
    "* **[]** represents the terminal state"
   ]
  },
  {
   "cell_type": "code",
   "execution_count": 46,
   "metadata": {
    "collapsed": false
   },
   "outputs": [
    {
     "data": {
      "image/png": "[encoded data removed]",
      "text/plain": [
       "<matplotlib.figure.Figure at 0x7f102af27198>"
      ]
     },
     "metadata": {},
     "output_type": "display_data"
    }
   ],
   "source": [
    "G = np.array([\n",
    "        [0, 1, 2, 3],\n",
    "        [4, 5, 6, 7],\n",
    "        [8, 9, 10, 11],\n",
    "        [12, 13, 14, 0]])\n",
    "\n",
    "\n",
    "fig, ax = plt.subplots(ncols=1, figsize=(3,3))\n",
    "plot_grid(ax, G, lookup={'0':'[]'}, font_size=16)\n",
    "\n",
    "plt.tight_layout()\n",
    "plt.show()"
   ]
  },
  {
   "cell_type": "code",
   "execution_count": 79,
   "metadata": {
    "collapsed": false
   },
   "outputs": [],
   "source": [
    "class Gridworld:\n",
    "    \"\"\"Gridworld\n",
    "    Names of the states:\n",
    "    [0][1][2][3]\n",
    "    [4][5][6][7]\n",
    "    ...\n",
    "    \"\"\"\n",
    "    \n",
    "    def __init__(self, w, h, default_r=-1, R=None, T=None):\n",
    "        self.w = w\n",
    "        self.h = h\n",
    "        self.T = T\n",
    "        self.R = R\n",
    "        self.default_r = default_r\n",
    "        self.max_state = w * h - 1\n",
    "    \n",
    "    def get_pos(self, s):\n",
    "        if self.max_state < s:\n",
    "            s = self.max_state\n",
    "        x = int(s % self.w)\n",
    "        y = int(s / self.w)\n",
    "        return x, y\n",
    "\n",
    "    def get_state(self, pos):\n",
    "        (x, y) = pos\n",
    "        s = y * self.w\n",
    "        s += x\n",
    "        return s\n",
    "    \n",
    "    def p(self, s, sp, a):\n",
    "        x1, y1 = self.get_pos(s)\n",
    "        x2, y2 = self.get_pos(sp)\n",
    "        \n",
    "        # bordering:\n",
    "        \n",
    "    \n",
    "gw = Gridworld(4, 4)"
   ]
  },
  {
   "cell_type": "code",
   "execution_count": 43,
   "metadata": {
    "collapsed": true
   },
   "outputs": [],
   "source": [
    "# Example: Grid-world\n",
    "%matplotlib inline\n",
    "import numpy as np\n",
    "import matplotlib.pyplot as plt\n",
    "\n",
    "def plot_grid(ax, G, grid_size=10, font_size=24, lookup=None):\n",
    "    h = G.shape[0]\n",
    "    w = G.shape[1]\n",
    "    \n",
    "    TOP = h * grid_size\n",
    "    hlf = grid_size/2\n",
    "    size = font_size\n",
    "    \n",
    "    for x_ in range(0, w):\n",
    "        X = []\n",
    "        Y = []\n",
    "        for y_ in range(0, h):\n",
    "            x = x_ * grid_size\n",
    "            y = y_ * grid_size\n",
    "            X.append(x)\n",
    "            Y.append(y)\n",
    "            X.append(x+grid_size)\n",
    "            Y.append(y)\n",
    "            X.append(x+grid_size)\n",
    "            Y.append(y+grid_size)\n",
    "            X.append(x)\n",
    "            Y.append(y+grid_size)\n",
    "            X.append(x)\n",
    "            Y.append(y)\n",
    "            \n",
    "            value = G[y_,x_]\n",
    "            if lookup is not None and str(value) in lookup:\n",
    "                value = lookup[str(value)]\n",
    "            if isinstance(value, float):\n",
    "                value = \"{0:.2f}\".format(value)\n",
    "            \n",
    "            ax.text(x + hlf-4, TOP - y - hlf, str(value), size=size)\n",
    "        ax.plot(X, Y, 'k-', lw=1)\n",
    "        \n",
    "    ax.axes.get_xaxis().set_ticks([])\n",
    "    ax.axes.get_yaxis().set_ticks([])"
   ]
  }
 ],
 "metadata": {
  "kernelspec": {
   "display_name": "Python 3",
   "language": "python",
   "name": "python3"
  },
  "language_info": {
   "codemirror_mode": {
    "name": "ipython",
    "version": 3
   },
   "file_extension": ".py",
   "mimetype": "text/x-python",
   "name": "python",
   "nbconvert_exporter": "python",
   "pygments_lexer": "ipython3",
   "version": "3.5.1"
  }
 },
 "nbformat": 4,
 "nbformat_minor": 0
}
