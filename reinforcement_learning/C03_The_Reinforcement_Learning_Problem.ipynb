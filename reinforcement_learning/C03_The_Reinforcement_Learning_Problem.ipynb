{
 "cells": [
  {
   "cell_type": "markdown",
   "metadata": {},
   "source": [
    "# The Reinforcement Learning Problem\n",
    "\n",
    "## The Agent-Environment Interface\n",
    "\n",
    "* Agent and environent interact in discrete time steps $t=0,1,2,3...$\n",
    "* At each time step $t$ the agent receives some representation of the environments *state*, $S_t\\in S$ where $S$ is the set of possible states\n",
    "* .. and on that basis selects an *action*, $A_t\\in A(S_t)$ where $A(S_t)$ is the set of actions available to state $S_t$.\n",
    "* At each step a **policy** $\\pi_t$ is evaluated, where $\\pi_t(a\\vert s)$ is the $\\Pr$ that $A_t=a$ if $S_t=s$\n",
    "\n",
    "\n",
    "## Goals and Rewards\n",
    "\n",
    "* Reward is at each step is a simple number $R_t\\in I\\!R$\n",
    "* Must be comuted in the environment and not in the agent!\n",
    "\n",
    "\n",
    "## Returns\n",
    "\n",
    "Sequence of rewards received after each time step $t$ is denoted $R_{t+1}, R_{t+2}, R_{t+2},...$ $\\Rightarrow$ Seek to **maximize the expected return** $G_t$. In the simplest case the return is the sum of rewards:\n",
    "\n",
    "$$G_t = R_{t+1}+R_{t+2}+...+R_T$$\n",
    "\n",
    "where $T$ is the final time step (**episodic tasks**).\n",
    "\n",
    "**Continual process-control**: Agent-environment interaction goes on continually without limit.\n",
    "**Problem**: $T\\rightarrow \\infty$, therefor we need **discounting** whith a *discount rate* $0\\leq \\gamma \\leq 1$:\n",
    "\n",
    "$$G_t=R_{t+1}+\\gamma R_{t+2}+\\gamma^2R_{t+3}+...=\\sum_{k=0}^{\\infty}\\gamma^k R_{t+k+1}$$\n",
    "\n",
    "* $\\gamma<1$: infinite sum  has a finite value as long as the reward sequence is bounded\n",
    "* $\\gamma=0$ **myopic**, agent is only concerned with immediate reward\n",
    "\n"
   ]
  }
 ],
 "metadata": {
  "kernelspec": {
   "display_name": "Python 3",
   "language": "python",
   "name": "python3"
  },
  "language_info": {
   "codemirror_mode": {
    "name": "ipython",
    "version": 3
   },
   "file_extension": ".py",
   "mimetype": "text/x-python",
   "name": "python",
   "nbconvert_exporter": "python",
   "pygments_lexer": "ipython3",
   "version": "3.5.1"
  }
 },
 "nbformat": 4,
 "nbformat_minor": 0
}
