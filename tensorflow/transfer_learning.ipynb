{
 "cells": [
  {
   "cell_type": "code",
   "execution_count": 3,
   "metadata": {
    "collapsed": true
   },
   "outputs": [],
   "source": [
    "%matplotlib inline\n",
    "import numpy as np\n",
    "import matplotlib.pyplot as plt\n",
    "import urllib.request\n",
    "from os.path import isfile\n",
    "import shutil\n",
    "\n",
    "url = 'http://download.tensorflow.org/example_images/flower_photos.tgz'\n",
    "fname = 'flower_photos.tgz'\n",
    "\n",
    "if not isfile(fname):\n",
    "    with urllib.request.urlopen(url) as res, open(fname, 'wb') as f:\n",
    "        shutil.copyfileobj(res, f)"
   ]
  }
 ],
 "metadata": {
  "kernelspec": {
   "display_name": "Python 3",
   "language": "python",
   "name": "python3"
  },
  "language_info": {
   "codemirror_mode": {
    "name": "ipython",
    "version": 3
   },
   "file_extension": ".py",
   "mimetype": "text/x-python",
   "name": "python",
   "nbconvert_exporter": "python",
   "pygments_lexer": "ipython3",
   "version": "3.6.2"
  }
 },
 "nbformat": 4,
 "nbformat_minor": 2
}
