{
 "cells": [
  {
   "cell_type": "markdown",
   "metadata": {},
   "source": [
    "# Warmup for tensorflow\n",
    "\n",
    "## Fibonacci numbers"
   ]
  },
  {
   "cell_type": "code",
   "execution_count": 68,
   "metadata": {},
   "outputs": [
    {
     "name": "stdout",
     "output_type": "stream",
     "text": [
      "[1, 1, 2, 3, 5, 8, 13, 21, 34, 55, 89, 144, 233, 377]\n"
     ]
    }
   ],
   "source": [
    "import tensorflow as tf\n",
    "import collections\n",
    "\n",
    "\n",
    "def fibonacci_number(n_):\n",
    "    \"\"\" calculates the fibonacci numbers with tf\n",
    "         j = 1\n",
    "         k = 0\n",
    "         n = 10 # the searched fibonacci number\n",
    "         for i in range(1, n):\n",
    "             j = j + k\n",
    "             k = j\n",
    "         print('fibonacci number for ' + n + ' = ' j)\n",
    "    \"\"\"\n",
    "    Pair = collections.namedtuple('Pair', 'j, k')\n",
    "    ijk_0 = (tf.constant(1), Pair(tf.constant(1), tf.constant(0)))\n",
    "    n = tf.placeholder(tf.int32)\n",
    "    c = lambda i, p: i < n\n",
    "    b = lambda i, p: (i + 1, Pair(p.j+ p.k, p.j))\n",
    "    ijk_final = tf.while_loop(c, b, ijk_0)\n",
    "\n",
    "    with tf.Session() as sess:\n",
    "        result = sess.run(ijk_final, {n: n_})\n",
    "        return result[1][0]\n",
    "\n",
    "\n",
    "fib_n = []\n",
    "for i in range(1, 15):\n",
    "    fib_n.append(fibonacci_number(i))\n",
    "\n",
    "print(fib_n)"
   ]
  }
 ],
 "metadata": {
  "kernelspec": {
   "display_name": "Python 3",
   "language": "python",
   "name": "python3"
  },
  "language_info": {
   "codemirror_mode": {
    "name": "ipython",
    "version": 3
   },
   "file_extension": ".py",
   "mimetype": "text/x-python",
   "name": "python",
   "nbconvert_exporter": "python",
   "pygments_lexer": "ipython3",
   "version": "3.6.1"
  }
 },
 "nbformat": 4,
 "nbformat_minor": 2
}
