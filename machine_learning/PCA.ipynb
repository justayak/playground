{
 "cells": [
  {
   "cell_type": "markdown",
   "metadata": {},
   "source": [
    "# PCA\n",
    "\n",
    "Given a collection of $m$ points $\\{ x^{(1)}, ..., x^{(m)} \\}$ in $\\pmb{R}^n$, encode points in lower dimension $\\pmb{R}^l$.\n",
    "\n",
    "$$x^{(i)} \\in \\pmb{R}^n \\rightarrow c^{(i)} \\in \\pmb{R}^l$$\n",
    "$$f(x)=c \\Rightarrow x \\approx g(f(x))$$\n",
    "\n",
    "Represent functions as matrices: $g(c)= Dc, D\\in \\pmb{R}^{n\\times l}$. To get a unique solution we constrain $D$ to be orthonormal.\n",
    "\n",
    "We now want to find $c^*$:\n",
    "\n",
    "$$\n",
    "c^* = \\underset{c}{argmin} \\big|\\big| x - g(c) \\big|\\big|_2 \\\\\n",
    "\\Leftrightarrow\n",
    "c^* = \\underset{c}{argmin} \\big|\\big| x - g(c) \\big|\\big|^2_2 \n",
    "$$\n",
    "\n",
    "$$\n",
    "(x-g(c))^2 = (x-g(c))^T(x-g(c))\n",
    "$$\n",
    "\n",
    "Applying the $L2$ norm:\n",
    "$$\n",
    "\\big|\\big|(x-g(c))^T(x-g(c))\\big|\\big|_2 = x^Tx-x^Tg(c)-g(c)^T+g(c)^Tg(c) \\\\\n",
    "\\Leftrightarrow c^* = \\underset{c}{argmin} -2x^T g(c)+g(c)^Tg(c) \\\\\n",
    "= \\underset{c}{argmin} -2x^TDc + c^TD^TDc \\\\\n",
    "= \\underset{c}{argmin} -2x^TDc + c^TI_lc \\\\\n",
    "= \\underset{c}{argmin} -2x^TDc + c^Tc\n",
    "$$\n",
    "\n",
    "Solve the optimization problem with vector calculus:\n",
    "$$\n",
    "\\Delta_c (-2x^TDc + c^Tc) = 0 \\\\\n",
    "-2D^Tx + 2c = 0 \\\\\n",
    "\\Rightarrow c = D^Tx\n",
    "$$\n",
    "\n",
    "Thus: $f(x) = D^Tx$\n",
    "\n",
    "Reconstruction operation: $r(x) = g(f(x)) = DD^Tx$\n",
    "\n",
    "To find $D^*$, we must optimize using the Frobenius norm (as now we need to factor in all points)\n",
    "\n",
    "$$\n",
    "D^* = \\underset{D}{argmin} \\sqrt{\n",
    "\\sum_{i,j} \\big(x_j^{(i)} - r(x^{(i)})_j\\big)^2\n",
    "}\n",
    "$$\n",
    "\n",
    "such that: $D^TD=I_l$\n",
    "\n",
    "---\n",
    "\n",
    "## Sample with l = 1\n",
    "\n",
    "All under constraint: $\\big|\\big|d\\big|\\big|_2=1$\n",
    "$$\n",
    "d^* = \\underset{d}{argmin} \\sum_i \\big|\\big| x^{(i)} - dd^Tx^{(i)}\\big|\\big|_2^2 \\\\\n",
    "= \\underset{d}{argmin} \\sum_i \\big|\\big| x^{(i)} - x^{(i)T}dd\\big|\\big|_2^2\n",
    "$$\n",
    "\n",
    "$X\\in \\pmb{R}^{m \\times n}, X_{i,:} = x^{(i)T}$\n",
    "\n",
    "$$\n",
    "d^* = \\underset{d}{argmin} \\big|\\big| X - Xdd^T\\big|\\big|_F^2\\\\\n",
    "= \\underset{d}{argmin} Tr\\big( (X-Xdd^T)^T (X-Xdd^T) \\big)\\\\\n",
    "= \\underset{d}{argmax} Tr\\big( d^TX^TXd \\big)\n",
    "$$\n",
    "\n",
    "This can be solved using eigendecomposition of $X^TX$ and take $d$ as the largest eigenvalue"
   ]
  },
  {
   "cell_type": "code",
   "execution_count": 15,
   "metadata": {
    "collapsed": false
   },
   "outputs": [
    {
     "name": "stdout",
     "output_type": "stream",
     "text": [
      "[ 267.25174649   16.74825351]\n"
     ]
    },
    {
     "ename": "ValueError",
     "evalue": "shapes (2,) and (1,) not aligned: 2 (dim 0) != 1 (dim 0)",
     "output_type": "error",
     "traceback": [
      "\u001b[0;31m---------------------------------------------------------------------------\u001b[0m",
      "\u001b[0;31mValueError\u001b[0m                                Traceback (most recent call last)",
      "\u001b[0;32m<ipython-input-15-3ecabe5b0f37>\u001b[0m in \u001b[0;36m<module>\u001b[0;34m()\u001b[0m\n\u001b[1;32m     17\u001b[0m \u001b[0;34m\u001b[0m\u001b[0m\n\u001b[1;32m     18\u001b[0m \u001b[0;32mfor\u001b[0m \u001b[0mx\u001b[0m \u001b[0;32min\u001b[0m \u001b[0mX\u001b[0m\u001b[0;34m:\u001b[0m\u001b[0;34m\u001b[0m\u001b[0m\n\u001b[0;32m---> 19\u001b[0;31m     \u001b[0mprint\u001b[0m\u001b[0;34m(\u001b[0m\u001b[0mx\u001b[0m \u001b[0;34m@\u001b[0m \u001b[0mnp\u001b[0m\u001b[0;34m.\u001b[0m\u001b[0marray\u001b[0m\u001b[0;34m(\u001b[0m\u001b[0;34m[\u001b[0m\u001b[0mVal\u001b[0m\u001b[0;34m[\u001b[0m\u001b[0;36m0\u001b[0m\u001b[0;34m]\u001b[0m\u001b[0;34m]\u001b[0m\u001b[0;34m)\u001b[0m\u001b[0;34m)\u001b[0m\u001b[0;34m\u001b[0m\u001b[0m\n\u001b[0m\u001b[1;32m     20\u001b[0m \u001b[0;34m\u001b[0m\u001b[0m\n\u001b[1;32m     21\u001b[0m \u001b[0mfig\u001b[0m \u001b[0;34m=\u001b[0m \u001b[0mplt\u001b[0m\u001b[0;34m.\u001b[0m\u001b[0mfigure\u001b[0m\u001b[0;34m(\u001b[0m\u001b[0mfigsize\u001b[0m\u001b[0;34m=\u001b[0m\u001b[0;34m(\u001b[0m\u001b[0;36m16\u001b[0m\u001b[0;34m,\u001b[0m \u001b[0;36m16\u001b[0m\u001b[0;34m)\u001b[0m\u001b[0;34m)\u001b[0m\u001b[0;34m\u001b[0m\u001b[0m\n",
      "\u001b[0;31mValueError\u001b[0m: shapes (2,) and (1,) not aligned: 2 (dim 0) != 1 (dim 0)"
     ]
    }
   ],
   "source": [
    "%matplotlib inline\n",
    "import matplotlib.pyplot as plt\n",
    "import numpy as np\n",
    "\n",
    "X = np.array([\n",
    "    [1, 2],\n",
    "    [3, 3],\n",
    "    [0, 3],\n",
    "    [5, 2],\n",
    "    [6, 2],\n",
    "    [7, 5],\n",
    "    [10, 3]\n",
    "])\n",
    "\n",
    "\n",
    "fig = plt.figure(figsize=(16, 16))\n",
    "ax = fig.add_subplot(211)\n",
    "\n",
    "ax.scatter(X[:,0], X[:,1])\n",
    "plt.show()"
   ]
  }
 ],
 "metadata": {
  "anaconda-cloud": {},
  "kernelspec": {
   "display_name": "Python [default]",
   "language": "python",
   "name": "python3"
  },
  "language_info": {
   "codemirror_mode": {
    "name": "ipython",
    "version": 3
   },
   "file_extension": ".py",
   "mimetype": "text/x-python",
   "name": "python",
   "nbconvert_exporter": "python",
   "pygments_lexer": "ipython3",
   "version": "3.5.2"
  }
 },
 "nbformat": 4,
 "nbformat_minor": 1
}
