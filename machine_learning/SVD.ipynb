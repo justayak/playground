{
 "cells": [
  {
   "cell_type": "markdown",
   "metadata": {},
   "source": [
    "# Singular value decomposition\n",
    "\n",
    "The SVD represents an expansion of the original data in the coord system where the covariance matrix is diagonal.\n",
    "\n",
    "* $M$ be a $n \\times p$\n",
    "* $U$ be $n \\times n$, the columns are left singular vectors (U is orthogonal)\n",
    "* $S$ be $n \\times p$ the diagonal contains the singular values\n",
    "* $V$ be $p\\times p$ the rows contain the right singular vectors (V is orthogonal)\n",
    "\n",
    "$$\n",
    "M = USV^T\n",
    "$$\n",
    "\n",
    "* $U^T = I_{n\\times n}$\n",
    "* $V^TV = I_{p\\times p}$\n",
    "\n",
    "## Steps\n",
    "\n",
    "Find eigenvalues and eigenvectors of $AA^T$ and $A^TA$. The eigenvectors of $AA^T$ make up the columns of $U$, the eigenvectors of $A^TA$ make up the columns of $V$. The singular values are the diagonal entries of $S$ and are arranged in **descending** order."
   ]
  },
  {
   "cell_type": "code",
   "execution_count": 42,
   "metadata": {
    "collapsed": false
   },
   "outputs": [
    {
     "name": "stdout",
     "output_type": "stream",
     "text": [
      "[[ 0.70710678 -0.70710678]\n",
      " [ 0.70710678  0.70710678]] vs \n",
      "[[-0.70710678 -0.70710678]\n",
      " [-0.70710678  0.70710678]]\n",
      "---\n",
      "[ 5.  3.] vs \n",
      "[ 5.  3.]\n",
      "---\n",
      "[[ -7.07106781e-01  -6.66666667e-01   2.35702260e-01]\n",
      " [ -7.07106781e-01   6.66666667e-01  -2.35702260e-01]\n",
      " [ -1.16614446e-17   3.33333333e-01   9.42809042e-01]] vs \n",
      "[[ -7.07106781e-01  -7.07106781e-01   1.11022302e-16]\n",
      " [ -2.35702260e-01   2.35702260e-01  -9.42809042e-01]\n",
      " [ -6.66666667e-01   6.66666667e-01   3.33333333e-01]]\n",
      "---\n"
     ]
    }
   ],
   "source": [
    "import numpy as np\n",
    "\n",
    "A = np.array([\n",
    "        [3,2,2],\n",
    "        [2,3,-2]\n",
    "    ])\n",
    "\n",
    "def svd(A):\n",
    "    AAT = A @ np.transpose(A)\n",
    "    U_v, U = np.linalg.eig(AAT)\n",
    "    \n",
    "    ATA = np.transpose(A) @ A\n",
    "    _, V = np.linalg.eig(ATA)\n",
    "    \n",
    "    D = np.sqrt(U_v)\n",
    "    return U, D, V\n",
    "    \n",
    "U, D, V = svd(A)\n",
    "\n",
    "\n",
    "\n",
    "u, s, v = np.linalg.svd(A)\n",
    "\n",
    "print(str(U) + \" vs \\n\" + str(u))\n",
    "print('---')\n",
    "print(str(D) + \" vs \\n\" + str(s))\n",
    "print('---')\n",
    "print(str(V) + \" vs \\n\" + str(v))\n",
    "print('---')"
   ]
  }
 ],
 "metadata": {
  "anaconda-cloud": {},
  "kernelspec": {
   "display_name": "Python [default]",
   "language": "python",
   "name": "python3"
  },
  "language_info": {
   "codemirror_mode": {
    "name": "ipython",
    "version": 3
   },
   "file_extension": ".py",
   "mimetype": "text/x-python",
   "name": "python",
   "nbconvert_exporter": "python",
   "pygments_lexer": "ipython3",
   "version": "3.5.2"
  }
 },
 "nbformat": 4,
 "nbformat_minor": 1
}
