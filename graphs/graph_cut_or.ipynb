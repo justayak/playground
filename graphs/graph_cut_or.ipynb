{
 "cells": [
  {
   "cell_type": "code",
   "execution_count": 1,
   "metadata": {},
   "outputs": [
    {
     "ename": "NameError",
     "evalue": "name 'pywraplp' is not defined",
     "output_type": "error",
     "traceback": [
      "\u001b[0;31m---------------------------------------------------------------------------\u001b[0m",
      "\u001b[0;31mNameError\u001b[0m                                 Traceback (most recent call last)",
      "\u001b[0;32m<ipython-input-1-b028428e6ced>\u001b[0m in \u001b[0;36m<module>\u001b[0;34m()\u001b[0m\n\u001b[1;32m      1\u001b[0m \u001b[0;32mimport\u001b[0m \u001b[0mnumpy\u001b[0m \u001b[0;32mas\u001b[0m \u001b[0mnp\u001b[0m\u001b[0;34m\u001b[0m\u001b[0m\n\u001b[1;32m      2\u001b[0m \u001b[0;34m\u001b[0m\u001b[0m\n\u001b[0;32m----> 3\u001b[0;31m solver = pywraplp.Solver('SolveAssignmentProblemMIP',\n\u001b[0m\u001b[1;32m      4\u001b[0m                            pywraplp.Solver.CBC_MIXED_INTEGER_PROGRAMMING)\n\u001b[1;32m      5\u001b[0m \u001b[0;34m\u001b[0m\u001b[0m\n",
      "\u001b[0;31mNameError\u001b[0m: name 'pywraplp' is not defined"
     ]
    }
   ],
   "source": [
    "import numpy as np\n",
    "from ortools.linear_solver import pywraplp\n",
    "\n",
    "solver = pywraplp.Solver('SolveAssignmentProblemMIP',\n",
    "                           pywraplp.Solver.CBC_MIXED_INTEGER_PROGRAMMING)\n",
    "\n",
    "W = np.array([\n",
    "    [5, 5, -5],\n",
    "    [5, 5, -5],\n",
    "    [-5, -5, 5]\n",
    "])\n",
    "\n",
    "x = {}\n",
    "\n",
    "n,m = W.shape\n",
    "for i in range(n):\n",
    "    for j in range(m):\n",
    "        x[i,j] = solver.BoolVar('x[%i,%i]' % (i,j))\n",
    "\n",
    "        \n",
    "COSTS = [W[i][j] * x[i,j] for i in range(n)\\\n",
    "       for j in range(m)]\n",
    "solver.Maximize(solver.Sum(COSTS))\n",
    "\n",
    "\n",
    "sol = solver.Solve()\n",
    "\n",
    "print('Total cost = ', solver.Objective().Value())\n",
    "\n",
    "F = ['a', 'b', 'c']\n",
    "S = ['d', 'e', 'f']\n",
    "\n",
    "for i in range(n):\n",
    "    for j in range(m):\n",
    "        v = x[i,j].solution_value()\n",
    "        print(F[i] + '-' + S[j] + \" => \" + str(int(v)))"
   ]
  }
 ],
 "metadata": {
  "kernelspec": {
   "display_name": "Python 3",
   "language": "python",
   "name": "python3"
  },
  "language_info": {
   "codemirror_mode": {
    "name": "ipython",
    "version": 3
   },
   "file_extension": ".py",
   "mimetype": "text/x-python",
   "name": "python",
   "nbconvert_exporter": "python",
   "pygments_lexer": "ipython3",
   "version": "3.6.4"
  }
 },
 "nbformat": 4,
 "nbformat_minor": 2
}
