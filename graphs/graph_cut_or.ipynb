{
 "cells": [
  {
   "cell_type": "code",
   "execution_count": 3,
   "metadata": {},
   "outputs": [
    {
     "name": "stdout",
     "output_type": "stream",
     "text": [
      "Total cost =  25.0\n",
      "a-d => 1\n",
      "a-e => 1\n",
      "a-f => 0\n",
      "b-d => 1\n",
      "b-e => 1\n",
      "b-f => 0\n",
      "c-d => 0\n",
      "c-e => 0\n",
      "c-f => 1\n"
     ]
    }
   ],
   "source": [
    "import numpy as np\n",
    "from ortools.linear_solver import pywraplp\n",
    "\n",
    "solver = pywraplp.Solver('SolveAssignmentProblemMIP',\n",
    "                           pywraplp.Solver.CBC_MIXED_INTEGER_PROGRAMMING)\n",
    "\n",
    "W = np.array([\n",
    "    [5, 5, -5],\n",
    "    [5, 5, -5],\n",
    "    [-5, -5, 5]\n",
    "])\n",
    "1\n",
    "x = {}\n",
    "\n",
    "n,m = W.shape\n",
    "for i in range(n):\n",
    "    for j in range(m):\n",
    "        x[i,j] = solver.BoolVar('x[%i,%i]' % (i,j))\n",
    "\n",
    "        \n",
    "COSTS = [W[i][j] * x[i,j] for i in range(n)\\\n",
    "       for j in range(m)]\n",
    "solver.Maximize(solver.Sum(COSTS))\n",
    "\n",
    "\n",
    "sol = solver.Solve()\n",
    "\n",
    "print('Total cost = ', solver.Objective().Value())\n",
    "\n",
    "F = ['a', 'b', 'c']\n",
    "S = ['d', 'e', 'f']\n",
    "\n",
    "for i in range(n):\n",
    "    for j in range(m):\n",
    "        v = x[i,j].solution_value()\n",
    "        print(F[i] + '-' + S[j] + \" => \" + str(int(v)))"
   ]
  },
  {
   "cell_type": "markdown",
   "metadata": {},
   "source": [
    "# graph cut for limbs\n",
    "\n",
    "Assuming two sets of joints $J_1, J_2$ that belong to a limb, with $\\vert J_1 \\vert = n, \\vert J_2 \\vert = m$.\n",
    "The graph consists of two sets of edges:\n",
    "\n",
    "* limb edge: $\\lambda \\in \\{0,1 \\}^{\\vert n \\times m \\vert}$\n",
    "* joint edge: $\\iota \\in \\{ 0,1\\}^{n\\times n + m \\times m}$\n",
    "\n",
    "We want to minimize the following cost function:\n",
    "\n",
    "$$\n",
    "E = \\biggr(\\sum_{j_1}^{J_1} \\sum_{j_2}^{J_2} \\lambda(j_1, j_2) \\Phi(j_1, j_2) \\biggr)\n",
    "+ \\biggr(\\sum_{j_1}^{J_1} \\sum_{j_2}^{J_1} \\iota(j_1, j_2)\\Pi(j_1, j_2) \\biggr)\n",
    "+ \\biggr(\\sum_{j_1}^{J_2} \\sum_{j_2}^{J_2} \\iota(j_1, j_2)\\Pi(j_1, j_2) \\biggr)\n",
    "$$\n",
    "\n",
    "given the following transitivity conditions:\n",
    "\n",
    "$$\\lambda(a,c) + \\lambda(b,c) - 1 \\leq \\iota(a,b)$$\n",
    "$$\\lambda(a,c) + \\iota(a,b) - 1 \\leq \\lambda(b,c)$$"
   ]
  },
  {
   "cell_type": "code",
   "execution_count": 1,
   "metadata": {},
   "outputs": [
    {
     "ename": "NameError",
     "evalue": "name 'solver' is not defined",
     "output_type": "error",
     "traceback": [
      "\u001b[0;31m---------------------------------------------------------------------------\u001b[0m",
      "\u001b[0;31mNameError\u001b[0m                                 Traceback (most recent call last)",
      "\u001b[0;32m<ipython-input-1-9b1cdac5ad33>\u001b[0m in \u001b[0;36m<module>\u001b[0;34m()\u001b[0m\n\u001b[1;32m     28\u001b[0m \u001b[0;32mfor\u001b[0m \u001b[0mi\u001b[0m \u001b[0;32min\u001b[0m \u001b[0mrange\u001b[0m\u001b[0;34m(\u001b[0m\u001b[0mn\u001b[0m\u001b[0;34m)\u001b[0m\u001b[0;34m:\u001b[0m\u001b[0;34m\u001b[0m\u001b[0m\n\u001b[1;32m     29\u001b[0m     \u001b[0;32mfor\u001b[0m \u001b[0mj\u001b[0m \u001b[0;32min\u001b[0m \u001b[0mrange\u001b[0m\u001b[0;34m(\u001b[0m\u001b[0mm\u001b[0m\u001b[0;34m)\u001b[0m\u001b[0;34m:\u001b[0m\u001b[0;34m\u001b[0m\u001b[0m\n\u001b[0;32m---> 30\u001b[0;31m         \u001b[0mlm\u001b[0m\u001b[0;34m[\u001b[0m\u001b[0mi\u001b[0m\u001b[0;34m,\u001b[0m\u001b[0mj\u001b[0m\u001b[0;34m]\u001b[0m \u001b[0;34m=\u001b[0m \u001b[0msolver\u001b[0m\u001b[0;34m.\u001b[0m\u001b[0mBoolVar\u001b[0m\u001b[0;34m(\u001b[0m\u001b[0;34m'lambda[%i,%i]'\u001b[0m \u001b[0;34m%\u001b[0m \u001b[0;34m(\u001b[0m\u001b[0mi\u001b[0m\u001b[0;34m,\u001b[0m\u001b[0mj\u001b[0m\u001b[0;34m)\u001b[0m\u001b[0;34m)\u001b[0m\u001b[0;34m\u001b[0m\u001b[0m\n\u001b[0m\u001b[1;32m     31\u001b[0m \u001b[0;34m\u001b[0m\u001b[0m\n\u001b[1;32m     32\u001b[0m \u001b[0mio1\u001b[0m \u001b[0;34m=\u001b[0m \u001b[0;34m{\u001b[0m\u001b[0;34m}\u001b[0m\u001b[0;34m\u001b[0m\u001b[0m\n",
      "\u001b[0;31mNameError\u001b[0m: name 'solver' is not defined"
     ]
    }
   ],
   "source": [
    "import numpy as np\n",
    "L = np.array([\n",
    "    [5, 5, 0, 0.5],\n",
    "    [5, 6, -1, -5],\n",
    "    [-1,0, 1, 5],\n",
    "    [-5,0, 5, 3]\n",
    "])\n",
    "\n",
    "\n",
    "# J1, J2 symmetric\n",
    "J1 = np.array([\n",
    "    [0, 5, 1, 1],\n",
    "    [5, 0, 0, 0],\n",
    "    [1, 0, 0, 5],\n",
    "    [1, 0, 5, 0]\n",
    "])\n",
    "\n",
    "J2 = np.array([\n",
    "    [0, 5, 1, 1],\n",
    "    [5, 0, 0, 0],\n",
    "    [1, 0, 0, 5],\n",
    "    [1, 0, 5, 0]\n",
    "])\n",
    "\n",
    "n, m = L.shape\n",
    "\n",
    "lm = {}\n",
    "for i in range(n):\n",
    "    for j in range(m):\n",
    "        lm[i,j] = solver.BoolVar('lambda[%i,%i]' % (i,j))\n",
    "\n",
    "io1 = {}\n",
    "for i in range(n):\n",
    "    for j in range(n):\n",
    "        io1[i,j] = solver.BoolVar('iota1[%i,%i]' % (i,j))\n",
    "        \n",
    "io2 = {}\n",
    "for i in range(m):\n",
    "    for j in range(m):\n",
    "        io2[i,j] = solver.BoolVar('iota2[%i,%i]' % (i,j))\n",
    "\n",
    "\n",
    "for a in range(n):\n",
    "    for b in range(n):\n",
    "        for c in range(m):\n",
    "            constr = solver.Constraint(-solver.infinity(), lm[a,b])\n",
    "        \n",
    "\n",
    "# -- solver --\n",
    "solver = pywraplp.Solver('SolveAssignmentProblemMIP',\n",
    "                           pywraplp.Solver.CBC_MIXED_INTEGER_PROGRAMMING)\n",
    "\n"
   ]
  }
 ],
 "metadata": {
  "kernelspec": {
   "display_name": "Python 3",
   "language": "python",
   "name": "python3"
  },
  "language_info": {
   "codemirror_mode": {
    "name": "ipython",
    "version": 3
   },
   "file_extension": ".py",
   "mimetype": "text/x-python",
   "name": "python",
   "nbconvert_exporter": "python",
   "pygments_lexer": "ipython3",
   "version": "3.6.4"
  }
 },
 "nbformat": 4,
 "nbformat_minor": 2
}
