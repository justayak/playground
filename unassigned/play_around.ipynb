{
 "cells": [
  {
   "cell_type": "code",
   "execution_count": 16,
   "metadata": {
    "collapsed": false
   },
   "outputs": [
    {
     "data": {
      "image/png": "[encoded data removed]",
      "text/plain": [
       "<matplotlib.figure.Figure at 0x7f964c393e48>"
      ]
     },
     "metadata": {},
     "output_type": "display_data"
    }
   ],
   "source": [
    "%matplotlib inline\n",
    "import matplotlib.pyplot as plt\n",
    "import numpy as np\n",
    "import math\n",
    "\n",
    "def line(x, a=1, b=1, c=1):\n",
    "    return (- c - a * x)/b\n",
    "\n",
    "fig = plt.figure(figsize=(8,8))\n",
    "\n",
    "ax = fig.add_subplot(111)\n",
    "\n",
    "for x in range(-5, 5):\n",
    "    y = line(x)\n",
    "    ax.scatter(x, y)\n",
    "\n",
    "for x in range(-5, 5):\n",
    "    ax.plot([-5, 5], [x, x], color='black', alpha=1 if x == 0 else 0.3)\n",
    "for y in range(-5, 5):\n",
    "    ax.plot([y, y], [-5, 5], color='black', alpha=1 if y == 0 else 0.3)\n",
    "    \n",
    "plt.show()"
   ]
  }
 ],
 "metadata": {
  "kernelspec": {
   "display_name": "Python 3",
   "language": "python",
   "name": "python3"
  },
  "language_info": {
   "codemirror_mode": {
    "name": "ipython",
    "version": 3
   },
   "file_extension": ".py",
   "mimetype": "text/x-python",
   "name": "python",
   "nbconvert_exporter": "python",
   "pygments_lexer": "ipython3",
   "version": "3.5.2"
  }
 },
 "nbformat": 4,
 "nbformat_minor": 0
}
