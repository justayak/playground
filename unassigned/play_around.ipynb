{
 "cells": [
  {
   "cell_type": "code",
   "execution_count": 2,
   "metadata": {
    "collapsed": false
   },
   "outputs": [
    {
     "name": "stdout",
     "output_type": "stream",
     "text": [
      "[[ 4.  0.]\n",
      " [ 0.  4.]]\n"
     ]
    }
   ],
   "source": [
    "import numpy as np\n",
    "import math\n",
    "\n",
    "v = np.array([2, 1])\n",
    "\n",
    "A = np.array([[1,0],[0,1]])\n",
    "\n",
    "v.T @ np.linalg.inv(A) @ v\n",
    "\n",
    "\n",
    "B = np.array([[math.sqrt(2), -math.sqrt(2)],[math.sqrt(2), math.sqrt(2)]])\n",
    "\n",
    "print(B @ B.T)"
   ]
  },
  {
   "cell_type": "code",
   "execution_count": 10,
   "metadata": {
    "collapsed": false
   },
   "outputs": [
    {
     "data": {
      "text/plain": [
       "array([[  4.,  12.,  20.,  28.],\n",
       "       [  8.,  16.,  24.,  32.]])"
      ]
     },
     "execution_count": 10,
     "metadata": {},
     "output_type": "execute_result"
    }
   ],
   "source": [
    "A = np.array([[math.sqrt(2), -math.sqrt(2)],[math.sqrt(2), math.sqrt(2)]])\n",
    "\n",
    "\n",
    "x = [\n",
    "    (1, 2),\n",
    "    (3,4),\n",
    "    (5,6),\n",
    "    (7,8)\n",
    "]\n",
    "\n",
    "x = np.array(x)\n",
    "\n",
    "\n",
    "A.T @ A @ x.T"
   ]
  }
 ],
 "metadata": {
  "kernelspec": {
   "display_name": "Python 3",
   "language": "python",
   "name": "python3"
  },
  "language_info": {
   "codemirror_mode": {
    "name": "ipython",
    "version": 3
   },
   "file_extension": ".py",
   "mimetype": "text/x-python",
   "name": "python",
   "nbconvert_exporter": "python",
   "pygments_lexer": "ipython3",
   "version": "3.5.2"
  }
 },
 "nbformat": 4,
 "nbformat_minor": 0
}
