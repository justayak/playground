{
 "cells": [
  {
   "cell_type": "markdown",
   "metadata": {},
   "source": [
    "# Homework for CV2.4.4"
   ]
  },
  {
   "cell_type": "code",
   "execution_count": 30,
   "metadata": {
    "collapsed": false
   },
   "outputs": [
    {
     "data": {
      "image/png": "[encoded data removed]",
      "text/plain": [
       "<matplotlib.figure.Figure at 0x7f02d0de5748>"
      ]
     },
     "metadata": {},
     "output_type": "display_data"
    }
   ],
   "source": [
    "%matplotlib inline\n",
    "import matplotlib.pyplot as plt\n",
    "\n",
    "svm1_TP = 284\n",
    "svm1_FP = 7\n",
    "svm1_FN = 4\n",
    "\n",
    "svm2_TP = 281\n",
    "svm2_FP = 6\n",
    "svm2_FN = 7\n",
    "\n",
    "svm3_TP = 281\n",
    "svm3_FP = 6\n",
    "svm3_FN = 7\n",
    "\n",
    "def prec(tp, fp):\n",
    "    return tp / (fp + tp)\n",
    "\n",
    "def recall(tp, fn):\n",
    "    return tp / (fn + tp)\n",
    "\n",
    "P = [prec(svm1_TP, svm1_FP), prec(svm2_TP, svm2_FP), prec(svm3_TP, svm3_FP)]\n",
    "R = [recall(svm1_TP, svm1_FN), recall(svm2_TP, svm2_FN), recall(svm3_TP, svm3_FN)]\n",
    "\n",
    "fig = plt.figure()\n",
    "ax = fig.add_subplot(111)\n",
    "\n",
    "ax.scatter(P, R)\n",
    "\n",
    "ax.text(0.975, 0.988, \"C=0.01\")\n",
    "\n",
    "ax.text(0.979, 0.980, \"C=1\")\n",
    "ax.text(0.979, 0.977, \"C=100\")\n",
    "\n",
    "\n",
    "plt.show()"
   ]
  }
 ],
 "metadata": {
  "kernelspec": {
   "display_name": "Python 3",
   "language": "python",
   "name": "python3"
  },
  "language_info": {
   "codemirror_mode": {
    "name": "ipython",
    "version": 3
   },
   "file_extension": ".py",
   "mimetype": "text/x-python",
   "name": "python",
   "nbconvert_exporter": "python",
   "pygments_lexer": "ipython3",
   "version": "3.5.2"
  }
 },
 "nbformat": 4,
 "nbformat_minor": 0
}
